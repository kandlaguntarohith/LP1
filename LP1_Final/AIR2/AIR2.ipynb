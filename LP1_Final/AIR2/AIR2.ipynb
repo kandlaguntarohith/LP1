{
  "nbformat": 4,
  "nbformat_minor": 0,
  "metadata": {
    "colab": {
      "name": "AIR2.ipynb",
      "provenance": []
    },
    "kernelspec": {
      "name": "python3",
      "display_name": "Python 3"
    },
    "language_info": {
      "name": "python"
    }
  },
  "cells": [
    {
      "cell_type": "code",
      "execution_count": null,
      "metadata": {
        "id": "mYtLUXd6p-4U"
      },
      "outputs": [],
      "source": [
        "from nltk.chat.util import Chat, reflections\n",
        "\n",
        "pairs = [\n",
        "            [\n",
        "                r\"my name is(.*)\",\n",
        "                [\"Hello %1, how are you today?\",]\n",
        "            ],\n",
        "            [\n",
        "                r\"what is your name?\",\n",
        "                [\"My name is Jarvis and I will help you with your finacial queries today.\",]\n",
        "            ],\n",
        "            [\n",
        "                r\"where to put(.*)money\",\n",
        "                [\"Basically there are many options to invest-\\n 1. Regional and \\n 2. Stocks.\\nIn which section would you like to invest?\",]\n",
        "            ],\n",
        "            [\n",
        "                r\"1|Regional(.*)\",\n",
        "                [\"There are many- SBI,HSBC,DB. Which bank would you like to go for?\",]\n",
        "            ],\n",
        "            [\n",
        "                r\"SBI(.*)\",\n",
        "                [\"SBI offers 10 percent Interest.\",]\n",
        "            ],\n",
        "            [\n",
        "                r\"DB(.*)\",\n",
        "                [\"DB offers 09 percent Interest.\",]\n",
        "            ],\n",
        "            [\n",
        "                r\"HSBC(.*)\",\n",
        "                [\"HSBC offers 11 percent Interest.\",]\n",
        "            ],\n",
        "            [\n",
        "                r\"2|(.*)Stocks(.*)\",\n",
        "                [\"We have 2 companies to offer: 1. AAA 2. BBB.\\n choose any one to know more.\\n\",]\n",
        "            ],\n",
        "            [\n",
        "                r\"AAA(.*)\",\n",
        "                [\"The company AAA has a ROI = 11 percent\",]\n",
        "            ],\n",
        "            [\n",
        "                r\"BBB(.*)\",\n",
        "                [\"The company BBB has a ROI = 15 percent\",]\n",
        "            ],\n",
        "            [\n",
        "                r\"hi|hey|hello(.*)\",\n",
        "                [\"Hello\", \"Hey there\",]\n",
        "            ],\n",
        "            [\n",
        "                r\"exit|quit|q\",\n",
        "                [\"Signing out, see you again ^_^\",]\n",
        "            ],\n",
        "        ]\n",
        "\n",
        "def chatbot():\n",
        "    '''Chat is the class that contains all the logic to be used by the chatbot,\n",
        "    reflections is a predefined dictionary containing a set of input values and it's corresponding output values\n",
        "    '''\n",
        "    print(\"Booting up.....\\nHey there. I'm a simple ChatBot made without ML, only using NLTK library.\") \n",
        "    print(\"Please type in English language (lower case) what you want to ask me.\\nPress enter Q to exit\")\n",
        "    chat = Chat(pairs, reflections)\n",
        "    chat.converse()\n",
        "\n",
        "if __name__ == \"__main__\":\n",
        "    chatbot()\n"
      ]
    }
  ]
}
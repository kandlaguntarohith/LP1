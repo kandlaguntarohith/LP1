{
  "nbformat": 4,
  "nbformat_minor": 0,
  "metadata": {
    "colab": {
      "name": "DA4.ipynb",
      "provenance": []
    },
    "kernelspec": {
      "name": "python3",
      "display_name": "Python 3"
    },
    "language_info": {
      "name": "python"
    }
  },
  "cells": [
    {
      "cell_type": "code",
      "execution_count": null,
      "metadata": {
        "id": "nRNYksN6ZOgL"
      },
      "outputs": [],
      "source": [
        "import pandas as pd\n",
        "import re"
      ]
    },
    {
      "cell_type": "code",
      "source": [
        "train=pd.read_csv(\"train.csv\")"
      ],
      "metadata": {
        "id": "d3Kd7UevZc0R"
      },
      "execution_count": null,
      "outputs": []
    },
    {
      "cell_type": "code",
      "source": [
        "train.head()"
      ],
      "metadata": {
        "id": "p-P4hG8gZ-Df"
      },
      "execution_count": null,
      "outputs": []
    },
    {
      "cell_type": "code",
      "source": [
        "# drop col 'id' (as it is of no use) and replace it in the same variable\n",
        "train.drop(\"id\",inplace=True,axis=1)"
      ],
      "metadata": {
        "id": "FDkMf79NaAkc"
      },
      "execution_count": null,
      "outputs": []
    },
    {
      "cell_type": "code",
      "source": [
        "train.head()"
      ],
      "metadata": {
        "id": "esHF74pNaC30"
      },
      "execution_count": null,
      "outputs": []
    },
    {
      "cell_type": "code",
      "source": [
        "temp = train.groupby(\"label\").size()\n",
        "temp"
      ],
      "metadata": {
        "id": "NjoQ8AWpaEi4"
      },
      "execution_count": null,
      "outputs": []
    },
    {
      "cell_type": "code",
      "source": [
        "import nltk\n",
        "#nltk.download()"
      ],
      "metadata": {
        "id": "dVlZbVjTaGZe"
      },
      "execution_count": null,
      "outputs": []
    },
    {
      "cell_type": "code",
      "source": [
        "from nltk.stem import PorterStemmer\n",
        "stemmer = PorterStemmer()\n",
        "\n",
        "def clean_sentences(text):\n",
        "    text = text.lower()   # convert text to lower case\n",
        "    text = re.sub(r\"[^a-z0-9^,!.\\/']\", \" \", text)    # remove special char's\n",
        "    text = \" \".join(text.split())\n",
        "    text = \" \".join(stemmer.stem(word) for word in text.split())   # do stemming\n",
        "    return text"
      ],
      "metadata": {
        "id": "ZdWaAaJNaIER"
      },
      "execution_count": null,
      "outputs": []
    },
    {
      "cell_type": "code",
      "source": [
        "x = train['tweet']\n",
        "y = train['label']"
      ],
      "metadata": {
        "id": "VmU-xPkZaKT8"
      },
      "execution_count": null,
      "outputs": []
    },
    {
      "cell_type": "code",
      "source": [
        "x = x.map(lambda a: clean_sentences(a))"
      ],
      "metadata": {
        "id": "j93v56JlaLlv"
      },
      "execution_count": null,
      "outputs": []
    },
    {
      "cell_type": "code",
      "source": [
        "x.head()"
      ],
      "metadata": {
        "id": "L7_2DKuKaNoD"
      },
      "execution_count": null,
      "outputs": []
    },
    {
      "cell_type": "code",
      "source": [
        "pip install sklearn"
      ],
      "metadata": {
        "id": "3_GdUocXaTUh"
      },
      "execution_count": null,
      "outputs": []
    },
    {
      "cell_type": "code",
      "source": [
        "from sklearn.model_selection import train_test_split\n",
        "\n",
        " # split the dataset into training set & testing set\n",
        " # data is split in a stratified fashion\n",
        "x_train, x_test, y_train, y_test = train_test_split(x,y,stratify=y,random_state=42)"
      ],
      "metadata": {
        "id": "RbdaeftbaVqW"
      },
      "execution_count": null,
      "outputs": []
    },
    {
      "cell_type": "code",
      "source": [
        "x_train.head()"
      ],
      "metadata": {
        "id": "LR054q4IaXRP"
      },
      "execution_count": null,
      "outputs": []
    },
    {
      "cell_type": "code",
      "source": [
        "from sklearn.feature_extraction.text import TfidfVectorizer"
      ],
      "metadata": {
        "id": "ZEAXu-jvaZQf"
      },
      "execution_count": null,
      "outputs": []
    },
    {
      "cell_type": "code",
      "source": [
        "vectorizer = TfidfVectorizer(stop_words='english')"
      ],
      "metadata": {
        "id": "C7S-8eJ7ab6y"
      },
      "execution_count": null,
      "outputs": []
    },
    {
      "cell_type": "code",
      "source": [
        "x_train = vectorizer.fit_transform(x_train)"
      ],
      "metadata": {
        "id": "0MI-dTZQadGF"
      },
      "execution_count": null,
      "outputs": []
    },
    {
      "cell_type": "code",
      "source": [
        "x_test = vectorizer.transform(x_test)"
      ],
      "metadata": {
        "id": "pQBwAjxraeKA"
      },
      "execution_count": null,
      "outputs": []
    },
    {
      "cell_type": "code",
      "source": [
        "from sklearn.svm import LinearSVC"
      ],
      "metadata": {
        "id": "okYwtJAZaguO"
      },
      "execution_count": null,
      "outputs": []
    },
    {
      "cell_type": "code",
      "source": [
        "model = LinearSVC(C=1.05, tol=0.5)"
      ],
      "metadata": {
        "id": "B_I10v3xajuN"
      },
      "execution_count": null,
      "outputs": []
    },
    {
      "cell_type": "code",
      "source": [
        "model.fit(x_train,y_train)"
      ],
      "metadata": {
        "id": "858liT8EalQy"
      },
      "execution_count": null,
      "outputs": []
    },
    {
      "cell_type": "code",
      "source": [
        "from sklearn.metrics import confusion_matrix, accuracy_score, precision_score, f1_score, recall_score\n",
        "confusion_matrix(y_test,model.predict(x_test))"
      ],
      "metadata": {
        "id": "Lob6bB7Mamxc"
      },
      "execution_count": null,
      "outputs": []
    },
    {
      "cell_type": "code",
      "source": [
        "accuracy_score(y_test,model.predict(x_test))"
      ],
      "metadata": {
        "id": "qGBLLfUfapWI"
      },
      "execution_count": null,
      "outputs": []
    },
    {
      "cell_type": "code",
      "source": [
        "recall_score(y_test,model.predict(x_test))"
      ],
      "metadata": {
        "id": "S4ubD0SvasKj"
      },
      "execution_count": null,
      "outputs": []
    },
    {
      "cell_type": "code",
      "source": [
        "precision_score(y_test,model.predict(x_test))"
      ],
      "metadata": {
        "id": "S_rs9z3iauEd"
      },
      "execution_count": null,
      "outputs": []
    },
    {
      "cell_type": "code",
      "source": [
        "f1_score(y_test,model.predict(x_test))"
      ],
      "metadata": {
        "id": "sD8Wjr09awzl"
      },
      "execution_count": null,
      "outputs": []
    },
    {
      "cell_type": "code",
      "source": [
        "# sample_text = ['I hate you']\n",
        "# sample_text = ['I dont hate you']\n",
        "sample_text = ['you are a bad person.']\n",
        "sample_text = list(map(lambda a: clean_sentences(a), sample_text))\n",
        "sample_text"
      ],
      "metadata": {
        "id": "dSAzAdXmayXm"
      },
      "execution_count": null,
      "outputs": []
    },
    {
      "cell_type": "code",
      "source": [
        "sample_text = vectorizer.transform(sample_text)"
      ],
      "metadata": {
        "id": "BMeY7yToa07F"
      },
      "execution_count": null,
      "outputs": []
    },
    {
      "cell_type": "code",
      "source": [
        "model.predict(sample_text)[0]"
      ],
      "metadata": {
        "id": "3Y8nBR7-a7Dj"
      },
      "execution_count": null,
      "outputs": []
    }
  ]
}
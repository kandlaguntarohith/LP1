{
  "nbformat": 4,
  "nbformat_minor": 0,
  "metadata": {
    "colab": {
      "name": "HPC3.ipynb",
      "provenance": []
    },
    "kernelspec": {
      "name": "python3",
      "display_name": "Python 3"
    },
    "language_info": {
      "name": "python"
    }
  },
  "cells": [
    {
      "cell_type": "markdown",
      "source": [
        "**MergeSort**"
      ],
      "metadata": {
        "id": "irweNxtpamhV"
      }
    },
    {
      "cell_type": "code",
      "source": [
        "code = \"\"\"\n",
        "#include<bits/stdc++.h>\n",
        "#include<omp.h>\n",
        "\n",
        "using namespace std;\n",
        "\n",
        "// reusable func. called recursively \n",
        "void merge(vector<int> &arr, int start, int mid, int end) {\n",
        "    int len = (end - start) + 1;\n",
        "\n",
        "    // temp array used in merge sort\n",
        "    int temp[len];\n",
        "    int cur = 0;\n",
        "    \n",
        "    int i = start;\n",
        "    int j = mid + 1;\n",
        "    while(i <= mid && j <= end){\n",
        "        if(arr[i] < arr[j]) {\n",
        "            temp[cur] = arr[i];\n",
        "            cur++;\n",
        "            i++;\n",
        "        }\n",
        "        else {\n",
        "            temp[cur] = arr[j];\n",
        "            cur++;\n",
        "            j++;\n",
        "        }\n",
        "    }\n",
        "    if(i <= mid) {\n",
        "        while(i <= mid) {\n",
        "            temp[cur] = arr[i];\n",
        "            i++;\n",
        "            cur++;\n",
        "        }\n",
        "    }\n",
        "    \n",
        "    else if(j <= end) {\n",
        "        while(j <= end) {\n",
        "            temp[cur] = arr[j];\n",
        "            j++;\n",
        "            cur++;\n",
        "        }\n",
        "    }\n",
        "    \n",
        "    cur = 0;\n",
        "    for(i=start; i<=end; i++) {\n",
        "        arr[i] = temp[cur];\n",
        "        cur++;\n",
        "    }\n",
        "\n",
        "}\n",
        "\n",
        "// serial caller method\n",
        "void serialMergeSort(vector<int> &arr, int start, int end) {\n",
        "    if(start < end) {\n",
        "        // avoid overflow\n",
        "        int mid = start + (end-start) / 2;\n",
        "        \n",
        "        serialMergeSort(arr, start, mid);\n",
        "        serialMergeSort(arr, mid+1, end);\n",
        "      \n",
        "        merge(arr, start, mid, end);\n",
        "    }\n",
        "}\n",
        "\n",
        "// parallel caller method\n",
        "void parallelMergeSort(vector<int> &arr, int start, int end) {\n",
        "    if(start < end) {\n",
        "        // avoid overflow\n",
        "        int mid = (start + end) / 2;\n",
        "        \n",
        "        #pragma omp parallel sections\n",
        "        {\n",
        "            #pragma omp section\n",
        "            serialMergeSort(arr, start, mid);\n",
        "            \n",
        "            #pragma omp section\n",
        "            serialMergeSort(arr, mid+1, end);\n",
        "        }\n",
        "        \n",
        "        merge(arr, start, mid, end);\n",
        "    \n",
        "    }\n",
        "}\n",
        "\n",
        "int main(int argc, char *argv[]) {\n",
        "    int size = 50000;\n",
        "    vector<int> a;\n",
        "    \n",
        "    double start, end;\n",
        "    \n",
        "    omp_set_num_threads(2);\n",
        "    \n",
        "    for(int i=0; i<size; i++) {\n",
        "        a.push_back(rand()% 1000);\n",
        "    }\n",
        "\n",
        "    vector<int> ar1, ar2;\n",
        "\n",
        "    ar1 = a;\n",
        "    ar2 = a;\n",
        "    \n",
        "    //int a[]= {7,33,5,5,23,111,75,34,77,121,120};\n",
        "    \n",
        "    cout<<\"Input list:  \";\n",
        "    for(int i=0; i<size; i++) \n",
        "        cout<<a[i]<<\" \";\n",
        "    cout<<endl<<endl;\n",
        "\n",
        "    start = omp_get_wtime();\n",
        "    serialMergeSort(ar1, 0, size-1);\n",
        "    end = omp_get_wtime();\n",
        "    \n",
        "    /*\n",
        "    cout<<\"Merge Sorted List(serial):  \";\n",
        "    for(int i=0; i<size; i++)\n",
        "      cout<<ar1[i]<<\" \";\n",
        "    cout<<endl<<endl;\n",
        "    */\n",
        "    \n",
        "    // in seconds\n",
        "    cout<<\"Execution time(serial) = \"<<(end-start)<<\" seconds\"<<endl;\n",
        "\n",
        "\n",
        "    start = omp_get_wtime();\n",
        "    parallelMergeSort(ar2, 0, size-1);\n",
        "    end = omp_get_wtime();\n",
        "    \n",
        "    /*\n",
        "    cout<<\"Merge Sorted List(parallel):  \";\n",
        "    for(int i=0; i<size; i++)\n",
        "      cout<<ar2[i]<<\" \";\n",
        "    cout<<endl<<endl;\n",
        "    */\n",
        "    \n",
        "    // in seconds\n",
        "    cout<<\"Execution time(parallel) = \"<<(end-start)<<\" seconds\"<<endl;\n",
        "    \n",
        "    return 0;\n",
        "}\n",
        "\n",
        "\"\"\""
      ],
      "metadata": {
        "id": "rNpFZQssarRm"
      },
      "execution_count": 1,
      "outputs": []
    },
    {
      "cell_type": "code",
      "source": [
        "text_file = open(\"merge11.cpp\", \"w\")\n",
        "text_file.write(code)\n",
        "text_file.close()"
      ],
      "metadata": {
        "id": "11ucT5hrazQV"
      },
      "execution_count": 2,
      "outputs": []
    },
    {
      "cell_type": "code",
      "source": [
        "!g++ -fopenmp merge11.cpp"
      ],
      "metadata": {
        "id": "7guux2W3a0of"
      },
      "execution_count": null,
      "outputs": []
    },
    {
      "cell_type": "code",
      "source": [
        "!./a.out"
      ],
      "metadata": {
        "id": "7XK4i64pa2jB"
      },
      "execution_count": null,
      "outputs": []
    },
    {
      "cell_type": "markdown",
      "source": [
        "**BubbleSort**"
      ],
      "metadata": {
        "id": "GvJdhMd9a9NZ"
      }
    },
    {
      "cell_type": "code",
      "source": [
        "code = \"\"\"\n",
        "#include<omp.h>\n",
        "#include<iostream>\n",
        "using namespace std;\n",
        "\n",
        "void serialBubbleSort(int arr[], int n) {\n",
        "\n",
        "    for(int i = 0; i < n; i++) {\n",
        "        for(int j = 0; j < n-i-1; j++) {\n",
        "            if(arr[j] > arr[j+1]) swap(arr[j], arr[j+1]);\n",
        "        }\n",
        "    }\n",
        "}\n",
        "\n",
        "void parallelBubbleSort(int arr[], int n) {\n",
        "    for(int i = 0; i < n-1; i++) {\n",
        "        int first = i%2;\n",
        "        #pragma omp parallel for\n",
        "        for(int j = first; j < n-1; j += 2) {\n",
        "            if(arr[j] > arr[j+1]) swap(arr[j], arr[j+1]);\n",
        "        }\n",
        "    }\n",
        "}\n",
        "\n",
        "void swap(int *num1, int *num2) {\n",
        "    int temp = *num1;\n",
        "    *num1 = *num2;\n",
        "    *num2 = temp;\n",
        "}\n",
        "\n",
        "int main() {\n",
        "    int n = 20000;\n",
        "    int a[n];\n",
        "    \n",
        "    omp_set_num_threads(2);\n",
        "    \n",
        "    for(int i=0; i<n; i++) {\n",
        "        a[i] = rand()% 100;\n",
        "    }\n",
        "    \n",
        "    cout<<\"Input list:  \";\n",
        "    for(int i=0; i<n; i++) \n",
        "        cout<<a[i]<<\" \";\n",
        "    cout<<endl<<endl;\n",
        "  \n",
        "    double start, end;\n",
        "    \n",
        "    start = omp_get_wtime();\n",
        "    serialBubbleSort(a, n);\n",
        "    end = omp_get_wtime();\n",
        "    \n",
        "    /*\n",
        "    cout<<\"Bubble Sorted List(serial):  \";\n",
        "    for(i=0; i<n; i++)\n",
        "      cout<<a[i]<<\" \";\n",
        "    cout<<endl<<endl;\n",
        "    */\n",
        "    \n",
        "    cout<<\"Execution time(serial) = \"<<(end-start)<<\" seconds\"<<endl;\n",
        "\n",
        "\n",
        "    start = omp_get_wtime();\n",
        "    parallelBubbleSort(a, n);\n",
        "    end = omp_get_wtime();\n",
        "    \n",
        "    cout<<\"Execution time(parallel) = \"<<(end-start)<<\" seconds\"<<endl;\n",
        "    \n",
        "    return 0;\n",
        "    \n",
        "}\n",
        "\"\"\""
      ],
      "metadata": {
        "id": "1RzN7M4MbJ9x"
      },
      "execution_count": 5,
      "outputs": []
    },
    {
      "cell_type": "code",
      "source": [
        "text_file = open(\"code.cpp\", \"w\")\n",
        "text_file.write(code)\n",
        "text_file.close()"
      ],
      "metadata": {
        "id": "OwfwLJIAbO0v"
      },
      "execution_count": 6,
      "outputs": []
    },
    {
      "cell_type": "code",
      "source": [
        "!g++ -fopenmp code.cpp"
      ],
      "metadata": {
        "id": "vs8g63hRbP_M"
      },
      "execution_count": 7,
      "outputs": []
    },
    {
      "cell_type": "code",
      "source": [
        "!./a.out"
      ],
      "metadata": {
        "id": "KnYRp_IYbRcX"
      },
      "execution_count": null,
      "outputs": []
    }
  ]
}
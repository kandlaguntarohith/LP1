{
  "nbformat": 4,
  "nbformat_minor": 0,
  "metadata": {
    "colab": {
      "name": "HPC4.ipynb",
      "provenance": []
    },
    "kernelspec": {
      "name": "python3",
      "display_name": "Python 3"
    }
  },
  "cells": [
    {
      "cell_type": "markdown",
      "source": [
        "**BFS**"
      ],
      "metadata": {
        "id": "O3a4bca1-SyB"
      }
    },
    {
      "cell_type": "code",
      "metadata": {
        "id": "PWQkrbHg_5A3"
      },
      "source": [
        "code = \"\"\"\n",
        "#include<iostream>\n",
        "#include<omp.h>\n",
        "\n",
        "using namespace std;\n",
        "int q[100];\n",
        "int visited[7];\n",
        "int local_q;\n",
        "\n",
        "void bfs(int adj_matrix[7][7], int first, int last, int q[], int n_nodes) {\n",
        "    if(first==last)\n",
        "      return;\n",
        "    \n",
        "    int cur_node = q[first++];\n",
        "    cout<<\"  \"<<cur_node;\n",
        "    \n",
        "    omp_set_num_threads(3);\n",
        "    \n",
        "    #pragma omp parallel for shared(visited)\n",
        "    for(int i=0; i<n_nodes; i++) {\n",
        "        if(adj_matrix[cur_node][i] == 1 && visited[i] == 0){\n",
        "            q[last++] = i;\n",
        "            visited[i] = 1;\n",
        "        }\n",
        "    }\n",
        "    \n",
        "    bfs(adj_matrix, first, last, q, n_nodes);\n",
        "}\n",
        "\n",
        "int main() {\n",
        "    int first = -1;\n",
        "    int last = 0;\n",
        "    int n_nodes = 7;\n",
        "    \n",
        "    for(int i=0; i<n_nodes; i++) {\n",
        "        visited[i] = 0;\n",
        "    }\n",
        "    \n",
        "    int adj_matrix[7][7] = {\n",
        "      {0, 1, 1, 0, 0, 0, 0},\n",
        "      {1, 0, 1, 1, 0, 0, 0},\n",
        "      {1, 1, 0, 0, 1, 0, 0},\n",
        "      {0, 1, 0, 0, 1, 0, 0},\n",
        "      {0, 0, 1, 1, 0, 1, 0},\n",
        "      {0, 0, 0, 0, 1, 0, 1},\n",
        "      {0, 0, 0, 0, 0, 1, 0}\n",
        "    };\n",
        "    \n",
        "    int start_node = 3;\n",
        "    q[last++] = start_node;\n",
        "    first++;\n",
        "    visited[start_node] = 1;\n",
        " \n",
        "    bfs(adj_matrix, first, last, q, n_nodes);\n",
        "    \n",
        "    return 0;\n",
        "    \n",
        "}\n",
        "\"\"\""
      ],
      "execution_count": 13,
      "outputs": []
    },
    {
      "cell_type": "code",
      "metadata": {
        "id": "uwOtwC4PAGRB"
      },
      "source": [
        "file_ = open(\"bfs.cpp\", \"w\")\n",
        "file_.write(code)\n",
        "file_.close()"
      ],
      "execution_count": 14,
      "outputs": []
    },
    {
      "cell_type": "code",
      "metadata": {
        "id": "sMvlPR0pAOdb"
      },
      "source": [
        "!g++ -fopenmp bfs.cpp"
      ],
      "execution_count": 15,
      "outputs": []
    },
    {
      "cell_type": "code",
      "metadata": {
        "id": "V4BOmNZeAQUa",
        "colab": {
          "base_uri": "https://localhost:8080/",
          "height": 0
        },
        "outputId": "e6046058-d96c-425c-ed0c-e50f337bb799"
      },
      "source": [
        "!./a.out\n"
      ],
      "execution_count": 16,
      "outputs": [
        {
          "output_type": "stream",
          "name": "stdout",
          "text": [
            "  3  4  1  5  2  0  6"
          ]
        }
      ]
    },
    {
      "cell_type": "markdown",
      "source": [
        "**BINARY SEARCH**"
      ],
      "metadata": {
        "id": "l1E7Tjps-WDx"
      }
    },
    {
      "cell_type": "code",
      "source": [
        "code = \"\"\"\n",
        "#include<mpi.h>\n",
        "#include<bits/stdc++.h>\n",
        "\n",
        "using namespace std;\n",
        "\n",
        "#define n 23\n",
        "#define KEY_IDX 8\n",
        "\n",
        "int a[] = {1,2,3,4,7,9,13,24,55,56,67,88, 100, 200, 300, 500, 760, 761, 762, 763, 764, 765};\n",
        "int key = 2;\n",
        "//int a[n];\n",
        "\n",
        "int a2[n];\n",
        "\n",
        "void generateArray() {\n",
        "    for(int i = 0; i < n; i++) \n",
        "        a[i] = i;\n",
        "\n",
        "    sort(a, a + n);\n",
        "    key = a[KEY_IDX];\n",
        "}\n",
        "\n",
        "int binarySearch(int *array, int start, int end, int value) {\n",
        "    int mid;\n",
        "    \n",
        "    while(start <= end) {\n",
        "        mid = (start + end) / 2;\n",
        "        if(array[mid] == value) \n",
        "            return mid;\n",
        "        else if(array[mid] < value)\n",
        "            start = mid + 1;\n",
        "        else\n",
        "            end = mid - 1;\n",
        "    }\n",
        "    return -1;\n",
        "}\n",
        "\n",
        "void receiveData(int id, int np, MPI_Status status){\n",
        "      int length;\n",
        "      // receive the count of elements, from the master\n",
        "      MPI_Recv(&length, 1, MPI_INT, 0, 0, MPI_COMM_WORLD, &status);\n",
        "      \n",
        "      // receive the array elements, from the master\n",
        "      MPI_Recv(&a2, length, MPI_INT, 0, 0, MPI_COMM_WORLD, &status);\n",
        "\n",
        "      // apply binary search and find the element\n",
        "      int position = binarySearch(a2, 0, length, key);\n",
        "\n",
        "      //cout<<\"Pos = \"<<position<<endl;\n",
        "      //cout<<\"id = \"<<id<<endl;\n",
        "\n",
        "      if(position != -1) {\n",
        "\t\t      int element_idx = (n / np) * id + position;\n",
        "\t\t      cout<<\"Element found at index : \"<<element_idx<<endl;\n",
        "          cout<<\"Found by process: \"<<id<<endl;\n",
        "\t    }\n",
        "      \n",
        "      // return the search results to the master\n",
        "      //MPI_Send(&position, 1, MPI_INT, 0, 0, MPI_COMM_WORLD);\n",
        "    \n",
        "}\n",
        "\n",
        "\n",
        "void sendData(int id, int np){\n",
        "      //int length = n / np;\n",
        "      //int index = id * length;\n",
        "\n",
        "      int index = n/np * id;\n",
        "      int length = (id < np-1) ? n/np : n-index;\n",
        "\n",
        "      //if(id == (np-1))\n",
        "        //  length = n - index;\n",
        "\n",
        "      // sending 'element count' to the child process, buffer size = 1\n",
        "      MPI_Send(&length, 1, MPI_INT, id, 0, MPI_COMM_WORLD);\n",
        "\n",
        "      // sending a buffer, which contains the array elements, to the child process, buffer size = 'elements_per_process'\n",
        "      MPI_Send(&a[index], length, MPI_INT, id, 0, MPI_COMM_WORLD);\n",
        "      \n",
        "}\n",
        "\n",
        "int main(int argc, char* argv[]) {\n",
        "    int pid, np, elements_per_process, n_elements_received;\n",
        "\n",
        "    double start, end;\n",
        "    \n",
        "    MPI_Status status;\n",
        "    \n",
        "    // initialize MPI\n",
        "    MPI_Init(&argc, &argv);\n",
        "    \n",
        "    // get the node id and store it in 'pid'.\n",
        "    MPI_Comm_rank(MPI_COMM_WORLD, &pid);\n",
        "\n",
        "    // get how many processes have been started\n",
        "    MPI_Comm_size(MPI_COMM_WORLD, &np);\n",
        "    \n",
        "    // if master process\n",
        "    if(pid == 0) {\n",
        "        int index;\n",
        "        \n",
        "        // elements_per_process = n / np;\n",
        "        //generateArray();\n",
        "\n",
        "        for(int i = 0; i < n; i++) \n",
        "            cout<<a[i]<<\" \";\n",
        "        //cout<<endl;\n",
        "\n",
        "        cout<<key<<\" \"<<endl;\n",
        "\n",
        "        start = MPI_Wtime(); \n",
        "        // distribute data to the child processes\n",
        "        for(int i=1; i<np; i++) {\n",
        "            sendData(i, np);\n",
        "        }\n",
        "\n",
        "        int position = binarySearch(a, 0, (n/np)-1, key);\n",
        "\n",
        "        end = MPI_Wtime();\n",
        "\n",
        "        if(position != -1) {\n",
        "          cout<<\"Element found at index : \"<<position<<endl;\n",
        "          cout<<\"Found by MASTER process\"<<endl;\n",
        "        }\n",
        "\n",
        "        // in seconds\n",
        "        cout<<\"Execution time(parallel) = \"<<(end-start)<<\" seconds\"<<endl;\n",
        "    }\n",
        "    // slave processes\n",
        "    else {\n",
        "        receiveData(pid, np, status);\n",
        "    }\n",
        "    \n",
        "    // terminate the MPI env.\n",
        "    MPI_Finalize();\n",
        "    return 0;\n",
        "}\n",
        "\"\"\""
      ],
      "metadata": {
        "id": "5NYYSQA1-bLY"
      },
      "execution_count": 21,
      "outputs": []
    },
    {
      "cell_type": "code",
      "source": [
        "file_ = open(\"BinarySearch.cpp\", \"w\");\n",
        "file_.write(code);\n",
        "file_.close();"
      ],
      "metadata": {
        "id": "j7yk5SN7-nTH"
      },
      "execution_count": 22,
      "outputs": []
    },
    {
      "cell_type": "code",
      "source": [
        "!mpiCC BinarySearch.cpp\n"
      ],
      "metadata": {
        "id": "l17iopZy-pZc"
      },
      "execution_count": 23,
      "outputs": []
    },
    {
      "cell_type": "code",
      "source": [
        "!mpirun --allow-run-as-root -np 4 ./a.out"
      ],
      "metadata": {
        "colab": {
          "base_uri": "https://localhost:8080/",
          "height": 0
        },
        "id": "1F6mgBC_-zF_",
        "outputId": "c36c5648-4ed9-42de-c248-e472af7a36f5"
      },
      "execution_count": 24,
      "outputs": [
        {
          "output_type": "stream",
          "name": "stdout",
          "text": [
            "1 2 3 4 7 9 13 24 55 56 67 88 100 200 300 500 760 761 762 763 764 765 2 2 \n",
            "Element found at index : 1\n",
            "Found by MASTER process\n",
            "Execution time(parallel) = 3.3334e-05 seconds\n"
          ]
        }
      ]
    }
  ]
}
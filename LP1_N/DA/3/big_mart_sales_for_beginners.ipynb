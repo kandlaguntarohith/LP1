{
  "cells": [
    {
      "cell_type": "markdown",
      "id": "ab3c22ed",
      "metadata": {
        "papermill": {
          "duration": 0.028409,
          "end_time": "2021-10-02T11:29:35.390727",
          "exception": false,
          "start_time": "2021-10-02T11:29:35.362318",
          "status": "completed"
        },
        "tags": [],
        "id": "ab3c22ed"
      },
      "source": [
        "# Introduction"
      ]
    },
    {
      "cell_type": "markdown",
      "id": "6017bce5",
      "metadata": {
        "papermill": {
          "duration": 0.024939,
          "end_time": "2021-10-02T11:29:35.443293",
          "exception": false,
          "start_time": "2021-10-02T11:29:35.418354",
          "status": "completed"
        },
        "tags": [],
        "id": "6017bce5"
      },
      "source": [
        "**This notebook is a guide for beginners into machine learning, linear regression to be more specific. There will be comments every step of the way so there is a clear understanding. We will be working on a mall's dataset and try to find insights on company's business decisions through exploratory data analysis and use linear regression models to predict sales.**"
      ]
    },
    {
      "cell_type": "markdown",
      "id": "0a28ef2f",
      "metadata": {
        "papermill": {
          "duration": 0.03479,
          "end_time": "2021-10-02T11:29:35.504508",
          "exception": false,
          "start_time": "2021-10-02T11:29:35.469718",
          "status": "completed"
        },
        "tags": [],
        "id": "0a28ef2f"
      },
      "source": [
        "# Supervised vs Unsupervised Learning"
      ]
    },
    {
      "cell_type": "markdown",
      "id": "0f231553",
      "metadata": {
        "papermill": {
          "duration": 0.033938,
          "end_time": "2021-10-02T11:29:35.566486",
          "exception": false,
          "start_time": "2021-10-02T11:29:35.532548",
          "status": "completed"
        },
        "tags": [],
        "id": "0f231553"
      },
      "source": [
        "**Machine learning is divided into supervised and unsupervised learning. In supervised learning, we train our model with data that we have previously acquired (labelled data). But, in unsupervised learning, our data is not labelled so our model must first self-discover any naturally occurring patterns in that training data set.**\n",
        "\n",
        "**Supervised machine learning is divided into classification and regression. In classification, we predict discrete values, e.g. Yes/No, Customer will purchase/Won't purchase. But in regression, we predict continuous values, such as age, price, etc.**"
      ]
    },
    {
      "cell_type": "markdown",
      "id": "e07b6ca4",
      "metadata": {
        "papermill": {
          "duration": 0.026852,
          "end_time": "2021-10-02T11:29:35.621545",
          "exception": false,
          "start_time": "2021-10-02T11:29:35.594693",
          "status": "completed"
        },
        "tags": [],
        "id": "e07b6ca4"
      },
      "source": [
        "# Linear Regression"
      ]
    },
    {
      "cell_type": "markdown",
      "id": "1b1aa68e",
      "metadata": {
        "papermill": {
          "duration": 0.035384,
          "end_time": "2021-10-02T11:29:35.684571",
          "exception": false,
          "start_time": "2021-10-02T11:29:35.649187",
          "status": "completed"
        },
        "tags": [],
        "id": "1b1aa68e"
      },
      "source": [
        "**Linear regression is a regression model that estimates the relationship between one independent variable and one dependent variable using a straight line.**\n",
        "\n",
        "**Example**\n",
        "\n",
        "**You are a social researcher interested in the relationship between income and happiness. You survey 500 people whose incomes range from 15k to 75k and ask them to rank their happiness on a scale from 1 to 10.**\n",
        "**Your independent variable (income) and dependent variable (happiness) are both quantitative, so you can do a regression analysis to see if there is a linear relationship between them.**"
      ]
    },
    {
      "cell_type": "markdown",
      "id": "97e61220",
      "metadata": {
        "papermill": {
          "duration": 0.038627,
          "end_time": "2021-10-02T11:29:35.759362",
          "exception": false,
          "start_time": "2021-10-02T11:29:35.720735",
          "status": "completed"
        },
        "tags": [],
        "id": "97e61220"
      },
      "source": [
        "# Importing libraries and dataset"
      ]
    },
    {
      "cell_type": "code",
      "execution_count": 1,
      "id": "b12242d9",
      "metadata": {
        "_cell_guid": "b1076dfc-b9ad-4769-8c92-a6c4dae69d19",
        "_uuid": "8f2839f25d086af736a60e9eeb907d3b93b6e0e5",
        "execution": {
          "iopub.execute_input": "2021-10-02T11:29:35.821499Z",
          "iopub.status.busy": "2021-10-02T11:29:35.820415Z",
          "iopub.status.idle": "2021-10-02T11:29:37.031342Z",
          "shell.execute_reply": "2021-10-02T11:29:37.030512Z",
          "shell.execute_reply.started": "2021-10-02T11:14:11.698499Z"
        },
        "papermill": {
          "duration": 1.241549,
          "end_time": "2021-10-02T11:29:37.031540",
          "exception": false,
          "start_time": "2021-10-02T11:29:35.789991",
          "status": "completed"
        },
        "tags": [],
        "id": "b12242d9"
      },
      "outputs": [],
      "source": [
        "import numpy as np\n",
        "import pandas as pd \n",
        "import matplotlib.pyplot as plt\n",
        "import seaborn as sns\n",
        "from sklearn.model_selection import train_test_split\n",
        "from sklearn.linear_model import LinearRegression\n",
        "from sklearn.preprocessing import LabelEncoder\n",
        "from xgboost import XGBRegressor\n",
        "from sklearn import metrics"
      ]
    },
    {
      "cell_type": "code",
      "execution_count": null,
      "id": "ce03754f",
      "metadata": {
        "execution": {
          "iopub.execute_input": "2021-10-02T11:29:37.085870Z",
          "iopub.status.busy": "2021-10-02T11:29:37.085227Z",
          "iopub.status.idle": "2021-10-02T11:29:37.150738Z",
          "shell.execute_reply": "2021-10-02T11:29:37.151197Z",
          "shell.execute_reply.started": "2021-10-02T11:14:11.712624Z"
        },
        "papermill": {
          "duration": 0.094415,
          "end_time": "2021-10-02T11:29:37.151387",
          "exception": false,
          "start_time": "2021-10-02T11:29:37.056972",
          "status": "completed"
        },
        "tags": [],
        "id": "ce03754f",
        "outputId": "908cfe4e-8cfd-4083-8e55-b889696efd7f"
      },
      "outputs": [
        {
          "data": {
            "text/html": [
              "<div>\n",
              "<style scoped>\n",
              "    .dataframe tbody tr th:only-of-type {\n",
              "        vertical-align: middle;\n",
              "    }\n",
              "\n",
              "    .dataframe tbody tr th {\n",
              "        vertical-align: top;\n",
              "    }\n",
              "\n",
              "    .dataframe thead th {\n",
              "        text-align: right;\n",
              "    }\n",
              "</style>\n",
              "<table border=\"1\" class=\"dataframe\">\n",
              "  <thead>\n",
              "    <tr style=\"text-align: right;\">\n",
              "      <th></th>\n",
              "      <th>Item_Identifier</th>\n",
              "      <th>Item_Weight</th>\n",
              "      <th>Item_Fat_Content</th>\n",
              "      <th>Item_Visibility</th>\n",
              "      <th>Item_Type</th>\n",
              "      <th>Item_MRP</th>\n",
              "      <th>Outlet_Identifier</th>\n",
              "      <th>Outlet_Establishment_Year</th>\n",
              "      <th>Outlet_Size</th>\n",
              "      <th>Outlet_Location_Type</th>\n",
              "      <th>Outlet_Type</th>\n",
              "      <th>Item_Outlet_Sales</th>\n",
              "    </tr>\n",
              "  </thead>\n",
              "  <tbody>\n",
              "    <tr>\n",
              "      <th>0</th>\n",
              "      <td>FDA15</td>\n",
              "      <td>9.30</td>\n",
              "      <td>Low Fat</td>\n",
              "      <td>0.016047</td>\n",
              "      <td>Dairy</td>\n",
              "      <td>249.8092</td>\n",
              "      <td>OUT049</td>\n",
              "      <td>1999</td>\n",
              "      <td>Medium</td>\n",
              "      <td>Tier 1</td>\n",
              "      <td>Supermarket Type1</td>\n",
              "      <td>3735.1380</td>\n",
              "    </tr>\n",
              "    <tr>\n",
              "      <th>1</th>\n",
              "      <td>DRC01</td>\n",
              "      <td>5.92</td>\n",
              "      <td>Regular</td>\n",
              "      <td>0.019278</td>\n",
              "      <td>Soft Drinks</td>\n",
              "      <td>48.2692</td>\n",
              "      <td>OUT018</td>\n",
              "      <td>2009</td>\n",
              "      <td>Medium</td>\n",
              "      <td>Tier 3</td>\n",
              "      <td>Supermarket Type2</td>\n",
              "      <td>443.4228</td>\n",
              "    </tr>\n",
              "    <tr>\n",
              "      <th>2</th>\n",
              "      <td>FDN15</td>\n",
              "      <td>17.50</td>\n",
              "      <td>Low Fat</td>\n",
              "      <td>0.016760</td>\n",
              "      <td>Meat</td>\n",
              "      <td>141.6180</td>\n",
              "      <td>OUT049</td>\n",
              "      <td>1999</td>\n",
              "      <td>Medium</td>\n",
              "      <td>Tier 1</td>\n",
              "      <td>Supermarket Type1</td>\n",
              "      <td>2097.2700</td>\n",
              "    </tr>\n",
              "    <tr>\n",
              "      <th>3</th>\n",
              "      <td>FDX07</td>\n",
              "      <td>19.20</td>\n",
              "      <td>Regular</td>\n",
              "      <td>0.000000</td>\n",
              "      <td>Fruits and Vegetables</td>\n",
              "      <td>182.0950</td>\n",
              "      <td>OUT010</td>\n",
              "      <td>1998</td>\n",
              "      <td>NaN</td>\n",
              "      <td>Tier 3</td>\n",
              "      <td>Grocery Store</td>\n",
              "      <td>732.3800</td>\n",
              "    </tr>\n",
              "    <tr>\n",
              "      <th>4</th>\n",
              "      <td>NCD19</td>\n",
              "      <td>8.93</td>\n",
              "      <td>Low Fat</td>\n",
              "      <td>0.000000</td>\n",
              "      <td>Household</td>\n",
              "      <td>53.8614</td>\n",
              "      <td>OUT013</td>\n",
              "      <td>1987</td>\n",
              "      <td>High</td>\n",
              "      <td>Tier 3</td>\n",
              "      <td>Supermarket Type1</td>\n",
              "      <td>994.7052</td>\n",
              "    </tr>\n",
              "  </tbody>\n",
              "</table>\n",
              "</div>"
            ],
            "text/plain": [
              "  Item_Identifier  Item_Weight Item_Fat_Content  Item_Visibility  \\\n",
              "0           FDA15         9.30          Low Fat         0.016047   \n",
              "1           DRC01         5.92          Regular         0.019278   \n",
              "2           FDN15        17.50          Low Fat         0.016760   \n",
              "3           FDX07        19.20          Regular         0.000000   \n",
              "4           NCD19         8.93          Low Fat         0.000000   \n",
              "\n",
              "               Item_Type  Item_MRP Outlet_Identifier  \\\n",
              "0                  Dairy  249.8092            OUT049   \n",
              "1            Soft Drinks   48.2692            OUT018   \n",
              "2                   Meat  141.6180            OUT049   \n",
              "3  Fruits and Vegetables  182.0950            OUT010   \n",
              "4              Household   53.8614            OUT013   \n",
              "\n",
              "   Outlet_Establishment_Year Outlet_Size Outlet_Location_Type  \\\n",
              "0                       1999      Medium               Tier 1   \n",
              "1                       2009      Medium               Tier 3   \n",
              "2                       1999      Medium               Tier 1   \n",
              "3                       1998         NaN               Tier 3   \n",
              "4                       1987        High               Tier 3   \n",
              "\n",
              "         Outlet_Type  Item_Outlet_Sales  \n",
              "0  Supermarket Type1          3735.1380  \n",
              "1  Supermarket Type2           443.4228  \n",
              "2  Supermarket Type1          2097.2700  \n",
              "3      Grocery Store           732.3800  \n",
              "4  Supermarket Type1           994.7052  "
            ]
          },
          "execution_count": 2,
          "metadata": {},
          "output_type": "execute_result"
        }
      ],
      "source": [
        "sales_data = pd.read_csv(\"../input/bigmart-sales-data/Train.csv\")\n",
        "sales_data.head()"
      ]
    },
    {
      "cell_type": "markdown",
      "id": "dcf9419e",
      "metadata": {
        "papermill": {
          "duration": 0.024961,
          "end_time": "2021-10-02T11:29:37.203177",
          "exception": false,
          "start_time": "2021-10-02T11:29:37.178216",
          "status": "completed"
        },
        "tags": [],
        "id": "dcf9419e"
      },
      "source": [
        "# Missing Values"
      ]
    },
    {
      "cell_type": "code",
      "execution_count": null,
      "id": "3b832900",
      "metadata": {
        "execution": {
          "iopub.execute_input": "2021-10-02T11:29:37.265883Z",
          "iopub.status.busy": "2021-10-02T11:29:37.264820Z",
          "iopub.status.idle": "2021-10-02T11:29:37.285253Z",
          "shell.execute_reply": "2021-10-02T11:29:37.285906Z",
          "shell.execute_reply.started": "2021-10-02T11:14:11.755504Z"
        },
        "papermill": {
          "duration": 0.057561,
          "end_time": "2021-10-02T11:29:37.286181",
          "exception": false,
          "start_time": "2021-10-02T11:29:37.228620",
          "status": "completed"
        },
        "tags": [],
        "id": "3b832900",
        "outputId": "999a7cd8-e822-4b99-f354-4bbe9de73f82"
      },
      "outputs": [
        {
          "name": "stdout",
          "output_type": "stream",
          "text": [
            "<class 'pandas.core.frame.DataFrame'>\n",
            "RangeIndex: 8523 entries, 0 to 8522\n",
            "Data columns (total 12 columns):\n",
            " #   Column                     Non-Null Count  Dtype  \n",
            "---  ------                     --------------  -----  \n",
            " 0   Item_Identifier            8523 non-null   object \n",
            " 1   Item_Weight                7060 non-null   float64\n",
            " 2   Item_Fat_Content           8523 non-null   object \n",
            " 3   Item_Visibility            8523 non-null   float64\n",
            " 4   Item_Type                  8523 non-null   object \n",
            " 5   Item_MRP                   8523 non-null   float64\n",
            " 6   Outlet_Identifier          8523 non-null   object \n",
            " 7   Outlet_Establishment_Year  8523 non-null   int64  \n",
            " 8   Outlet_Size                6113 non-null   object \n",
            " 9   Outlet_Location_Type       8523 non-null   object \n",
            " 10  Outlet_Type                8523 non-null   object \n",
            " 11  Item_Outlet_Sales          8523 non-null   float64\n",
            "dtypes: float64(4), int64(1), object(7)\n",
            "memory usage: 799.2+ KB\n"
          ]
        }
      ],
      "source": [
        "sales_data.info()"
      ]
    },
    {
      "cell_type": "code",
      "execution_count": null,
      "id": "54801c7d",
      "metadata": {
        "execution": {
          "iopub.execute_input": "2021-10-02T11:29:37.347725Z",
          "iopub.status.busy": "2021-10-02T11:29:37.343757Z",
          "iopub.status.idle": "2021-10-02T11:29:37.354735Z",
          "shell.execute_reply": "2021-10-02T11:29:37.354236Z",
          "shell.execute_reply.started": "2021-10-02T11:14:11.776999Z"
        },
        "papermill": {
          "duration": 0.041439,
          "end_time": "2021-10-02T11:29:37.354899",
          "exception": false,
          "start_time": "2021-10-02T11:29:37.313460",
          "status": "completed"
        },
        "tags": [],
        "id": "54801c7d",
        "outputId": "ac451b4a-e740-42cb-c691-f0b668c71d3f"
      },
      "outputs": [
        {
          "data": {
            "text/plain": [
              "Item_Identifier                 0\n",
              "Item_Weight                  1463\n",
              "Item_Fat_Content                0\n",
              "Item_Visibility                 0\n",
              "Item_Type                       0\n",
              "Item_MRP                        0\n",
              "Outlet_Identifier               0\n",
              "Outlet_Establishment_Year       0\n",
              "Outlet_Size                  2410\n",
              "Outlet_Location_Type            0\n",
              "Outlet_Type                     0\n",
              "Item_Outlet_Sales               0\n",
              "dtype: int64"
            ]
          },
          "execution_count": 4,
          "metadata": {},
          "output_type": "execute_result"
        }
      ],
      "source": [
        "sales_data.isnull().sum()"
      ]
    },
    {
      "cell_type": "markdown",
      "id": "409de548",
      "metadata": {
        "papermill": {
          "duration": 0.02605,
          "end_time": "2021-10-02T11:29:37.407199",
          "exception": false,
          "start_time": "2021-10-02T11:29:37.381149",
          "status": "completed"
        },
        "tags": [],
        "id": "409de548"
      },
      "source": [
        "**So, we have missing values in Item_Weight and Outlet_Size column. We need to impute these missing values with appropriate ones. We usually replace missing values in numerical columns with mean and in categorical columns with mode.**"
      ]
    },
    {
      "cell_type": "code",
      "execution_count": null,
      "id": "96daaa97",
      "metadata": {
        "execution": {
          "iopub.execute_input": "2021-10-02T11:29:37.476514Z",
          "iopub.status.busy": "2021-10-02T11:29:37.469863Z",
          "iopub.status.idle": "2021-10-02T11:29:37.485097Z",
          "shell.execute_reply": "2021-10-02T11:29:37.485866Z",
          "shell.execute_reply.started": "2021-10-02T11:14:11.798002Z"
        },
        "papermill": {
          "duration": 0.052814,
          "end_time": "2021-10-02T11:29:37.486130",
          "exception": false,
          "start_time": "2021-10-02T11:29:37.433316",
          "status": "completed"
        },
        "tags": [],
        "id": "96daaa97",
        "outputId": "ece26b6e-0f43-4e7f-e5fb-7fcde9a93b79"
      },
      "outputs": [
        {
          "data": {
            "text/plain": [
              "Item_Identifier              0\n",
              "Item_Weight                  0\n",
              "Item_Fat_Content             0\n",
              "Item_Visibility              0\n",
              "Item_Type                    0\n",
              "Item_MRP                     0\n",
              "Outlet_Identifier            0\n",
              "Outlet_Establishment_Year    0\n",
              "Outlet_Size                  0\n",
              "Outlet_Location_Type         0\n",
              "Outlet_Type                  0\n",
              "Item_Outlet_Sales            0\n",
              "dtype: int64"
            ]
          },
          "execution_count": 5,
          "metadata": {},
          "output_type": "execute_result"
        }
      ],
      "source": [
        "# Imputation\n",
        "sales_data['Item_Weight'] = sales_data['Item_Weight'].fillna(sales_data['Item_Weight'].mean())\n",
        "sales_data['Outlet_Size'] = sales_data['Outlet_Size'].fillna(sales_data['Outlet_Size'].mode()[0])\n",
        "sales_data.isnull().sum()"
      ]
    },
    {
      "cell_type": "markdown",
      "id": "921fb27e",
      "metadata": {
        "papermill": {
          "duration": 0.042521,
          "end_time": "2021-10-02T11:29:37.559074",
          "exception": false,
          "start_time": "2021-10-02T11:29:37.516553",
          "status": "completed"
        },
        "tags": [],
        "id": "921fb27e"
      },
      "source": [
        "**All our missing values are imputed so now we're good to go.**"
      ]
    },
    {
      "cell_type": "markdown",
      "id": "9b134f03",
      "metadata": {
        "papermill": {
          "duration": 0.026628,
          "end_time": "2021-10-02T11:29:37.620502",
          "exception": false,
          "start_time": "2021-10-02T11:29:37.593874",
          "status": "completed"
        },
        "tags": [],
        "id": "9b134f03"
      },
      "source": [
        "# Data Preprocessing"
      ]
    },
    {
      "cell_type": "markdown",
      "id": "1f868a80",
      "metadata": {
        "papermill": {
          "duration": 0.026126,
          "end_time": "2021-10-02T11:29:37.672838",
          "exception": false,
          "start_time": "2021-10-02T11:29:37.646712",
          "status": "completed"
        },
        "tags": [],
        "id": "1f868a80"
      },
      "source": [
        "**We need to encode the categorical variables to numerical ones so our ML model understands the data.**"
      ]
    },
    {
      "cell_type": "code",
      "execution_count": null,
      "id": "6dd58707",
      "metadata": {
        "execution": {
          "iopub.execute_input": "2021-10-02T11:29:37.742177Z",
          "iopub.status.busy": "2021-10-02T11:29:37.728828Z",
          "iopub.status.idle": "2021-10-02T11:29:37.745126Z",
          "shell.execute_reply": "2021-10-02T11:29:37.744669Z",
          "shell.execute_reply.started": "2021-10-02T11:14:11.820253Z"
        },
        "papermill": {
          "duration": 0.046139,
          "end_time": "2021-10-02T11:29:37.745276",
          "exception": false,
          "start_time": "2021-10-02T11:29:37.699137",
          "status": "completed"
        },
        "tags": [],
        "id": "6dd58707",
        "outputId": "7490ce85-fbc4-4b1b-e9f1-5768dd50ef68"
      },
      "outputs": [
        {
          "data": {
            "text/html": [
              "<div>\n",
              "<style scoped>\n",
              "    .dataframe tbody tr th:only-of-type {\n",
              "        vertical-align: middle;\n",
              "    }\n",
              "\n",
              "    .dataframe tbody tr th {\n",
              "        vertical-align: top;\n",
              "    }\n",
              "\n",
              "    .dataframe thead th {\n",
              "        text-align: right;\n",
              "    }\n",
              "</style>\n",
              "<table border=\"1\" class=\"dataframe\">\n",
              "  <thead>\n",
              "    <tr style=\"text-align: right;\">\n",
              "      <th></th>\n",
              "      <th>Item_Identifier</th>\n",
              "      <th>Item_Weight</th>\n",
              "      <th>Item_Fat_Content</th>\n",
              "      <th>Item_Visibility</th>\n",
              "      <th>Item_Type</th>\n",
              "      <th>Item_MRP</th>\n",
              "      <th>Outlet_Identifier</th>\n",
              "      <th>Outlet_Establishment_Year</th>\n",
              "      <th>Outlet_Size</th>\n",
              "      <th>Outlet_Location_Type</th>\n",
              "      <th>Outlet_Type</th>\n",
              "      <th>Item_Outlet_Sales</th>\n",
              "    </tr>\n",
              "  </thead>\n",
              "  <tbody>\n",
              "    <tr>\n",
              "      <th>0</th>\n",
              "      <td>FDA15</td>\n",
              "      <td>9.30</td>\n",
              "      <td>Low Fat</td>\n",
              "      <td>0.016047</td>\n",
              "      <td>Dairy</td>\n",
              "      <td>249.8092</td>\n",
              "      <td>OUT049</td>\n",
              "      <td>1999</td>\n",
              "      <td>Medium</td>\n",
              "      <td>Tier 1</td>\n",
              "      <td>Supermarket Type1</td>\n",
              "      <td>3735.1380</td>\n",
              "    </tr>\n",
              "    <tr>\n",
              "      <th>1</th>\n",
              "      <td>DRC01</td>\n",
              "      <td>5.92</td>\n",
              "      <td>Regular</td>\n",
              "      <td>0.019278</td>\n",
              "      <td>Soft Drinks</td>\n",
              "      <td>48.2692</td>\n",
              "      <td>OUT018</td>\n",
              "      <td>2009</td>\n",
              "      <td>Medium</td>\n",
              "      <td>Tier 3</td>\n",
              "      <td>Supermarket Type2</td>\n",
              "      <td>443.4228</td>\n",
              "    </tr>\n",
              "    <tr>\n",
              "      <th>2</th>\n",
              "      <td>FDN15</td>\n",
              "      <td>17.50</td>\n",
              "      <td>Low Fat</td>\n",
              "      <td>0.016760</td>\n",
              "      <td>Meat</td>\n",
              "      <td>141.6180</td>\n",
              "      <td>OUT049</td>\n",
              "      <td>1999</td>\n",
              "      <td>Medium</td>\n",
              "      <td>Tier 1</td>\n",
              "      <td>Supermarket Type1</td>\n",
              "      <td>2097.2700</td>\n",
              "    </tr>\n",
              "    <tr>\n",
              "      <th>3</th>\n",
              "      <td>FDX07</td>\n",
              "      <td>19.20</td>\n",
              "      <td>Regular</td>\n",
              "      <td>0.000000</td>\n",
              "      <td>Fruits and Vegetables</td>\n",
              "      <td>182.0950</td>\n",
              "      <td>OUT010</td>\n",
              "      <td>1998</td>\n",
              "      <td>Medium</td>\n",
              "      <td>Tier 3</td>\n",
              "      <td>Grocery Store</td>\n",
              "      <td>732.3800</td>\n",
              "    </tr>\n",
              "    <tr>\n",
              "      <th>4</th>\n",
              "      <td>NCD19</td>\n",
              "      <td>8.93</td>\n",
              "      <td>Low Fat</td>\n",
              "      <td>0.000000</td>\n",
              "      <td>Household</td>\n",
              "      <td>53.8614</td>\n",
              "      <td>OUT013</td>\n",
              "      <td>1987</td>\n",
              "      <td>High</td>\n",
              "      <td>Tier 3</td>\n",
              "      <td>Supermarket Type1</td>\n",
              "      <td>994.7052</td>\n",
              "    </tr>\n",
              "  </tbody>\n",
              "</table>\n",
              "</div>"
            ],
            "text/plain": [
              "  Item_Identifier  Item_Weight Item_Fat_Content  Item_Visibility  \\\n",
              "0           FDA15         9.30          Low Fat         0.016047   \n",
              "1           DRC01         5.92          Regular         0.019278   \n",
              "2           FDN15        17.50          Low Fat         0.016760   \n",
              "3           FDX07        19.20          Regular         0.000000   \n",
              "4           NCD19         8.93          Low Fat         0.000000   \n",
              "\n",
              "               Item_Type  Item_MRP Outlet_Identifier  \\\n",
              "0                  Dairy  249.8092            OUT049   \n",
              "1            Soft Drinks   48.2692            OUT018   \n",
              "2                   Meat  141.6180            OUT049   \n",
              "3  Fruits and Vegetables  182.0950            OUT010   \n",
              "4              Household   53.8614            OUT013   \n",
              "\n",
              "   Outlet_Establishment_Year Outlet_Size Outlet_Location_Type  \\\n",
              "0                       1999      Medium               Tier 1   \n",
              "1                       2009      Medium               Tier 3   \n",
              "2                       1999      Medium               Tier 1   \n",
              "3                       1998      Medium               Tier 3   \n",
              "4                       1987        High               Tier 3   \n",
              "\n",
              "         Outlet_Type  Item_Outlet_Sales  \n",
              "0  Supermarket Type1          3735.1380  \n",
              "1  Supermarket Type2           443.4228  \n",
              "2  Supermarket Type1          2097.2700  \n",
              "3      Grocery Store           732.3800  \n",
              "4  Supermarket Type1           994.7052  "
            ]
          },
          "execution_count": 6,
          "metadata": {},
          "output_type": "execute_result"
        }
      ],
      "source": [
        "sales_data.head()"
      ]
    },
    {
      "cell_type": "code",
      "execution_count": null,
      "id": "380f03d1",
      "metadata": {
        "execution": {
          "iopub.execute_input": "2021-10-02T11:29:37.807985Z",
          "iopub.status.busy": "2021-10-02T11:29:37.807069Z",
          "iopub.status.idle": "2021-10-02T11:29:37.810258Z",
          "shell.execute_reply": "2021-10-02T11:29:37.810912Z",
          "shell.execute_reply.started": "2021-10-02T11:14:11.841618Z"
        },
        "papermill": {
          "duration": 0.03869,
          "end_time": "2021-10-02T11:29:37.811164",
          "exception": false,
          "start_time": "2021-10-02T11:29:37.772474",
          "status": "completed"
        },
        "tags": [],
        "id": "380f03d1",
        "outputId": "fa5cddea-6426-4315-f933-bcc7eac44944"
      },
      "outputs": [
        {
          "data": {
            "text/plain": [
              "Low Fat    5089\n",
              "Regular    2889\n",
              "LF          316\n",
              "reg         117\n",
              "low fat     112\n",
              "Name: Item_Fat_Content, dtype: int64"
            ]
          },
          "execution_count": 7,
          "metadata": {},
          "output_type": "execute_result"
        }
      ],
      "source": [
        "sales_data['Item_Fat_Content'].value_counts()"
      ]
    },
    {
      "cell_type": "code",
      "execution_count": null,
      "id": "46646485",
      "metadata": {
        "execution": {
          "iopub.execute_input": "2021-10-02T11:29:37.869855Z",
          "iopub.status.busy": "2021-10-02T11:29:37.869161Z",
          "iopub.status.idle": "2021-10-02T11:29:37.879370Z",
          "shell.execute_reply": "2021-10-02T11:29:37.879877Z",
          "shell.execute_reply.started": "2021-10-02T11:14:11.853729Z"
        },
        "papermill": {
          "duration": 0.041546,
          "end_time": "2021-10-02T11:29:37.880064",
          "exception": false,
          "start_time": "2021-10-02T11:29:37.838518",
          "status": "completed"
        },
        "tags": [],
        "id": "46646485",
        "outputId": "52b224c8-ed29-4259-d3dc-e5a5e05ed3f8"
      },
      "outputs": [
        {
          "data": {
            "text/plain": [
              "Low Fat    5517\n",
              "Regular    3006\n",
              "Name: Item_Fat_Content, dtype: int64"
            ]
          },
          "execution_count": 8,
          "metadata": {},
          "output_type": "execute_result"
        }
      ],
      "source": [
        "# Low Fat, LF and low fat are all same and Regular and reg are same so we need to combine them.\n",
        "sales_data.replace({'Item_Fat_Content':{'low fat':'Low Fat','LF':'Low Fat','reg':'Regular'}},inplace=True)\n",
        "sales_data['Item_Fat_Content'].value_counts()"
      ]
    },
    {
      "cell_type": "code",
      "execution_count": null,
      "id": "ae16c765",
      "metadata": {
        "execution": {
          "iopub.execute_input": "2021-10-02T11:29:37.941541Z",
          "iopub.status.busy": "2021-10-02T11:29:37.940773Z",
          "iopub.status.idle": "2021-10-02T11:29:37.974852Z",
          "shell.execute_reply": "2021-10-02T11:29:37.975384Z",
          "shell.execute_reply.started": "2021-10-02T11:14:11.874531Z"
        },
        "papermill": {
          "duration": 0.067359,
          "end_time": "2021-10-02T11:29:37.975581",
          "exception": false,
          "start_time": "2021-10-02T11:29:37.908222",
          "status": "completed"
        },
        "tags": [],
        "id": "ae16c765",
        "outputId": "ffae4998-a3f1-4e1d-f4e7-74a7e3c38469"
      },
      "outputs": [
        {
          "data": {
            "text/html": [
              "<div>\n",
              "<style scoped>\n",
              "    .dataframe tbody tr th:only-of-type {\n",
              "        vertical-align: middle;\n",
              "    }\n",
              "\n",
              "    .dataframe tbody tr th {\n",
              "        vertical-align: top;\n",
              "    }\n",
              "\n",
              "    .dataframe thead th {\n",
              "        text-align: right;\n",
              "    }\n",
              "</style>\n",
              "<table border=\"1\" class=\"dataframe\">\n",
              "  <thead>\n",
              "    <tr style=\"text-align: right;\">\n",
              "      <th></th>\n",
              "      <th>Item_Identifier</th>\n",
              "      <th>Item_Weight</th>\n",
              "      <th>Item_Fat_Content</th>\n",
              "      <th>Item_Visibility</th>\n",
              "      <th>Item_Type</th>\n",
              "      <th>Item_MRP</th>\n",
              "      <th>Outlet_Identifier</th>\n",
              "      <th>Outlet_Establishment_Year</th>\n",
              "      <th>Outlet_Size</th>\n",
              "      <th>Outlet_Location_Type</th>\n",
              "      <th>Outlet_Type</th>\n",
              "      <th>Item_Outlet_Sales</th>\n",
              "    </tr>\n",
              "  </thead>\n",
              "  <tbody>\n",
              "    <tr>\n",
              "      <th>0</th>\n",
              "      <td>156</td>\n",
              "      <td>9.30</td>\n",
              "      <td>0</td>\n",
              "      <td>0.016047</td>\n",
              "      <td>4</td>\n",
              "      <td>249.8092</td>\n",
              "      <td>9</td>\n",
              "      <td>1999</td>\n",
              "      <td>1</td>\n",
              "      <td>0</td>\n",
              "      <td>1</td>\n",
              "      <td>3735.1380</td>\n",
              "    </tr>\n",
              "    <tr>\n",
              "      <th>1</th>\n",
              "      <td>8</td>\n",
              "      <td>5.92</td>\n",
              "      <td>1</td>\n",
              "      <td>0.019278</td>\n",
              "      <td>14</td>\n",
              "      <td>48.2692</td>\n",
              "      <td>3</td>\n",
              "      <td>2009</td>\n",
              "      <td>1</td>\n",
              "      <td>2</td>\n",
              "      <td>2</td>\n",
              "      <td>443.4228</td>\n",
              "    </tr>\n",
              "    <tr>\n",
              "      <th>2</th>\n",
              "      <td>662</td>\n",
              "      <td>17.50</td>\n",
              "      <td>0</td>\n",
              "      <td>0.016760</td>\n",
              "      <td>10</td>\n",
              "      <td>141.6180</td>\n",
              "      <td>9</td>\n",
              "      <td>1999</td>\n",
              "      <td>1</td>\n",
              "      <td>0</td>\n",
              "      <td>1</td>\n",
              "      <td>2097.2700</td>\n",
              "    </tr>\n",
              "    <tr>\n",
              "      <th>3</th>\n",
              "      <td>1121</td>\n",
              "      <td>19.20</td>\n",
              "      <td>1</td>\n",
              "      <td>0.000000</td>\n",
              "      <td>6</td>\n",
              "      <td>182.0950</td>\n",
              "      <td>0</td>\n",
              "      <td>1998</td>\n",
              "      <td>1</td>\n",
              "      <td>2</td>\n",
              "      <td>0</td>\n",
              "      <td>732.3800</td>\n",
              "    </tr>\n",
              "    <tr>\n",
              "      <th>4</th>\n",
              "      <td>1297</td>\n",
              "      <td>8.93</td>\n",
              "      <td>0</td>\n",
              "      <td>0.000000</td>\n",
              "      <td>9</td>\n",
              "      <td>53.8614</td>\n",
              "      <td>1</td>\n",
              "      <td>1987</td>\n",
              "      <td>0</td>\n",
              "      <td>2</td>\n",
              "      <td>1</td>\n",
              "      <td>994.7052</td>\n",
              "    </tr>\n",
              "  </tbody>\n",
              "</table>\n",
              "</div>"
            ],
            "text/plain": [
              "   Item_Identifier  Item_Weight  Item_Fat_Content  Item_Visibility  Item_Type  \\\n",
              "0              156         9.30                 0         0.016047          4   \n",
              "1                8         5.92                 1         0.019278         14   \n",
              "2              662        17.50                 0         0.016760         10   \n",
              "3             1121        19.20                 1         0.000000          6   \n",
              "4             1297         8.93                 0         0.000000          9   \n",
              "\n",
              "   Item_MRP  Outlet_Identifier  Outlet_Establishment_Year  Outlet_Size  \\\n",
              "0  249.8092                  9                       1999            1   \n",
              "1   48.2692                  3                       2009            1   \n",
              "2  141.6180                  9                       1999            1   \n",
              "3  182.0950                  0                       1998            1   \n",
              "4   53.8614                  1                       1987            0   \n",
              "\n",
              "   Outlet_Location_Type  Outlet_Type  Item_Outlet_Sales  \n",
              "0                     0            1          3735.1380  \n",
              "1                     2            2           443.4228  \n",
              "2                     0            1          2097.2700  \n",
              "3                     2            0           732.3800  \n",
              "4                     2            1           994.7052  "
            ]
          },
          "execution_count": 9,
          "metadata": {},
          "output_type": "execute_result"
        }
      ],
      "source": [
        "# Now we'll do label encoding to transform categorical values to numerical values\n",
        "encoder = LabelEncoder()\n",
        "sales_data['Item_Identifier'] = encoder.fit_transform(sales_data['Item_Identifier'])\n",
        "sales_data['Item_Fat_Content'] = encoder.fit_transform(sales_data['Item_Fat_Content'])\n",
        "sales_data['Item_Type'] = encoder.fit_transform(sales_data['Item_Type'])\n",
        "sales_data['Outlet_Identifier'] = encoder.fit_transform(sales_data['Outlet_Identifier'])\n",
        "sales_data['Outlet_Size'] = encoder.fit_transform(sales_data['Outlet_Size'])\n",
        "sales_data['Outlet_Location_Type'] = encoder.fit_transform(sales_data['Outlet_Location_Type'])\n",
        "sales_data['Outlet_Type'] = encoder.fit_transform(sales_data['Outlet_Type'])\n",
        "\n",
        "sales_data.head()"
      ]
    },
    {
      "cell_type": "markdown",
      "id": "99997d7d",
      "metadata": {
        "papermill": {
          "duration": 0.027398,
          "end_time": "2021-10-02T11:29:38.031018",
          "exception": false,
          "start_time": "2021-10-02T11:29:38.003620",
          "status": "completed"
        },
        "tags": [],
        "id": "99997d7d"
      },
      "source": [
        "# Exploratory Data Analysis"
      ]
    },
    {
      "cell_type": "code",
      "execution_count": null,
      "id": "271ad2a3",
      "metadata": {
        "execution": {
          "iopub.execute_input": "2021-10-02T11:29:38.091237Z",
          "iopub.status.busy": "2021-10-02T11:29:38.090544Z",
          "iopub.status.idle": "2021-10-02T11:29:38.105162Z",
          "shell.execute_reply": "2021-10-02T11:29:38.104528Z",
          "shell.execute_reply.started": "2021-10-02T11:14:11.917033Z"
        },
        "papermill": {
          "duration": 0.045838,
          "end_time": "2021-10-02T11:29:38.105312",
          "exception": false,
          "start_time": "2021-10-02T11:29:38.059474",
          "status": "completed"
        },
        "tags": [],
        "id": "271ad2a3",
        "outputId": "f4adf324-a84e-4890-b303-d507f6e7d420"
      },
      "outputs": [
        {
          "data": {
            "text/html": [
              "<div>\n",
              "<style scoped>\n",
              "    .dataframe tbody tr th:only-of-type {\n",
              "        vertical-align: middle;\n",
              "    }\n",
              "\n",
              "    .dataframe tbody tr th {\n",
              "        vertical-align: top;\n",
              "    }\n",
              "\n",
              "    .dataframe thead th {\n",
              "        text-align: right;\n",
              "    }\n",
              "</style>\n",
              "<table border=\"1\" class=\"dataframe\">\n",
              "  <thead>\n",
              "    <tr style=\"text-align: right;\">\n",
              "      <th></th>\n",
              "      <th>Item_Identifier</th>\n",
              "      <th>Item_Weight</th>\n",
              "      <th>Item_Fat_Content</th>\n",
              "      <th>Item_Visibility</th>\n",
              "      <th>Item_Type</th>\n",
              "      <th>Item_MRP</th>\n",
              "      <th>Outlet_Identifier</th>\n",
              "      <th>Outlet_Establishment_Year</th>\n",
              "      <th>Outlet_Size</th>\n",
              "      <th>Outlet_Location_Type</th>\n",
              "      <th>Outlet_Type</th>\n",
              "      <th>Item_Outlet_Sales</th>\n",
              "    </tr>\n",
              "  </thead>\n",
              "  <tbody>\n",
              "    <tr>\n",
              "      <th>0</th>\n",
              "      <td>156</td>\n",
              "      <td>9.30</td>\n",
              "      <td>0</td>\n",
              "      <td>0.016047</td>\n",
              "      <td>4</td>\n",
              "      <td>249.8092</td>\n",
              "      <td>9</td>\n",
              "      <td>1999</td>\n",
              "      <td>1</td>\n",
              "      <td>0</td>\n",
              "      <td>1</td>\n",
              "      <td>3735.1380</td>\n",
              "    </tr>\n",
              "    <tr>\n",
              "      <th>1</th>\n",
              "      <td>8</td>\n",
              "      <td>5.92</td>\n",
              "      <td>1</td>\n",
              "      <td>0.019278</td>\n",
              "      <td>14</td>\n",
              "      <td>48.2692</td>\n",
              "      <td>3</td>\n",
              "      <td>2009</td>\n",
              "      <td>1</td>\n",
              "      <td>2</td>\n",
              "      <td>2</td>\n",
              "      <td>443.4228</td>\n",
              "    </tr>\n",
              "    <tr>\n",
              "      <th>2</th>\n",
              "      <td>662</td>\n",
              "      <td>17.50</td>\n",
              "      <td>0</td>\n",
              "      <td>0.016760</td>\n",
              "      <td>10</td>\n",
              "      <td>141.6180</td>\n",
              "      <td>9</td>\n",
              "      <td>1999</td>\n",
              "      <td>1</td>\n",
              "      <td>0</td>\n",
              "      <td>1</td>\n",
              "      <td>2097.2700</td>\n",
              "    </tr>\n",
              "    <tr>\n",
              "      <th>3</th>\n",
              "      <td>1121</td>\n",
              "      <td>19.20</td>\n",
              "      <td>1</td>\n",
              "      <td>0.000000</td>\n",
              "      <td>6</td>\n",
              "      <td>182.0950</td>\n",
              "      <td>0</td>\n",
              "      <td>1998</td>\n",
              "      <td>1</td>\n",
              "      <td>2</td>\n",
              "      <td>0</td>\n",
              "      <td>732.3800</td>\n",
              "    </tr>\n",
              "    <tr>\n",
              "      <th>4</th>\n",
              "      <td>1297</td>\n",
              "      <td>8.93</td>\n",
              "      <td>0</td>\n",
              "      <td>0.000000</td>\n",
              "      <td>9</td>\n",
              "      <td>53.8614</td>\n",
              "      <td>1</td>\n",
              "      <td>1987</td>\n",
              "      <td>0</td>\n",
              "      <td>2</td>\n",
              "      <td>1</td>\n",
              "      <td>994.7052</td>\n",
              "    </tr>\n",
              "  </tbody>\n",
              "</table>\n",
              "</div>"
            ],
            "text/plain": [
              "   Item_Identifier  Item_Weight  Item_Fat_Content  Item_Visibility  Item_Type  \\\n",
              "0              156         9.30                 0         0.016047          4   \n",
              "1                8         5.92                 1         0.019278         14   \n",
              "2              662        17.50                 0         0.016760         10   \n",
              "3             1121        19.20                 1         0.000000          6   \n",
              "4             1297         8.93                 0         0.000000          9   \n",
              "\n",
              "   Item_MRP  Outlet_Identifier  Outlet_Establishment_Year  Outlet_Size  \\\n",
              "0  249.8092                  9                       1999            1   \n",
              "1   48.2692                  3                       2009            1   \n",
              "2  141.6180                  9                       1999            1   \n",
              "3  182.0950                  0                       1998            1   \n",
              "4   53.8614                  1                       1987            0   \n",
              "\n",
              "   Outlet_Location_Type  Outlet_Type  Item_Outlet_Sales  \n",
              "0                     0            1          3735.1380  \n",
              "1                     2            2           443.4228  \n",
              "2                     0            1          2097.2700  \n",
              "3                     2            0           732.3800  \n",
              "4                     2            1           994.7052  "
            ]
          },
          "execution_count": 10,
          "metadata": {},
          "output_type": "execute_result"
        }
      ],
      "source": [
        "sales_data.head()"
      ]
    },
    {
      "cell_type": "code",
      "execution_count": null,
      "id": "cb57a228",
      "metadata": {
        "execution": {
          "iopub.execute_input": "2021-10-02T11:29:38.168557Z",
          "iopub.status.busy": "2021-10-02T11:29:38.167903Z",
          "iopub.status.idle": "2021-10-02T11:29:39.433752Z",
          "shell.execute_reply": "2021-10-02T11:29:39.434245Z",
          "shell.execute_reply.started": "2021-10-02T11:14:11.942654Z"
        },
        "papermill": {
          "duration": 1.3005,
          "end_time": "2021-10-02T11:29:39.434434",
          "exception": false,
          "start_time": "2021-10-02T11:29:38.133934",
          "status": "completed"
        },
        "tags": [],
        "id": "cb57a228",
        "outputId": "b09ce041-04c2-4f4f-8528-b89c39e4d98f"
      },
      "outputs": [
        {
          "data": {
            "text/plain": [
              "<AxesSubplot:>"
            ]
          },
          "execution_count": 11,
          "metadata": {},
          "output_type": "execute_result"
        },
        {
          "data": {
            "image/png": "[encoded data removed]",
            "text/plain": [
              "<Figure size 576x576 with 2 Axes>"
            ]
          },
          "metadata": {
            "needs_background": "light"
          },
          "output_type": "display_data"
        }
      ],
      "source": [
        "# We can use a heatmap to check correlation between the variables.\n",
        "corr = sales_data.corr()\n",
        "plt.figure(figsize=(8,8))\n",
        "sns.heatmap(corr,cbar=True,square=True,fmt='.1f',annot=True,cmap='Reds')"
      ]
    },
    {
      "cell_type": "markdown",
      "id": "7e7bd931",
      "metadata": {
        "papermill": {
          "duration": 0.03058,
          "end_time": "2021-10-02T11:29:39.495673",
          "exception": false,
          "start_time": "2021-10-02T11:29:39.465093",
          "status": "completed"
        },
        "tags": [],
        "id": "7e7bd931"
      },
      "source": [
        "**There isn't much correlation between the variables, except that if Item_MRP increases, Item_Outlet_Sales increases.**"
      ]
    },
    {
      "cell_type": "code",
      "execution_count": null,
      "id": "0774343a",
      "metadata": {
        "execution": {
          "iopub.execute_input": "2021-10-02T11:29:39.565535Z",
          "iopub.status.busy": "2021-10-02T11:29:39.564880Z",
          "iopub.status.idle": "2021-10-02T11:29:40.293209Z",
          "shell.execute_reply": "2021-10-02T11:29:40.293693Z",
          "shell.execute_reply.started": "2021-10-02T11:14:13.113520Z"
        },
        "papermill": {
          "duration": 0.767571,
          "end_time": "2021-10-02T11:29:40.293876",
          "exception": false,
          "start_time": "2021-10-02T11:29:39.526305",
          "status": "completed"
        },
        "tags": [],
        "id": "0774343a",
        "outputId": "919b56c9-c991-45ca-ddd7-72901aaf143b"
      },
      "outputs": [
        {
          "data": {
            "image/png": "[encoded data removed]",
            "text/plain": [
              "<Figure size 1440x720 with 1 Axes>"
            ]
          },
          "metadata": {
            "needs_background": "light"
          },
          "output_type": "display_data"
        }
      ],
      "source": [
        "# What type of item has most sales?\n",
        "plt.figure(figsize=(20,10))\n",
        "sns.barplot(x='Item_Type',y='Item_Outlet_Sales',data=sales_data)\n",
        "plt.grid()"
      ]
    },
    {
      "cell_type": "markdown",
      "id": "26d6ecd0",
      "metadata": {
        "papermill": {
          "duration": 0.031316,
          "end_time": "2021-10-02T11:29:40.356540",
          "exception": false,
          "start_time": "2021-10-02T11:29:40.325224",
          "status": "completed"
        },
        "tags": [],
        "id": "26d6ecd0"
      },
      "source": [
        "**From the illustration above, we can tell items like fruits and vegetables, household goods, snacks, starchy foods and seafood are more sold than the other items so the mall should consider keeping more of these items in inventory, give special offers and discounts to these goods so volume of sales increases more.**"
      ]
    },
    {
      "cell_type": "code",
      "execution_count": null,
      "id": "fc73b91e",
      "metadata": {
        "execution": {
          "iopub.execute_input": "2021-10-02T11:29:40.431432Z",
          "iopub.status.busy": "2021-10-02T11:29:40.430147Z",
          "iopub.status.idle": "2021-10-02T11:29:40.677847Z",
          "shell.execute_reply": "2021-10-02T11:29:40.678489Z",
          "shell.execute_reply.started": "2021-10-02T11:14:13.874609Z"
        },
        "papermill": {
          "duration": 0.290693,
          "end_time": "2021-10-02T11:29:40.678680",
          "exception": false,
          "start_time": "2021-10-02T11:29:40.387987",
          "status": "completed"
        },
        "tags": [],
        "id": "fc73b91e",
        "outputId": "952ccdcc-6158-4d3c-c956-145c687e5d16"
      },
      "outputs": [
        {
          "data": {
            "text/plain": [
              "<AxesSubplot:xlabel='Outlet_Establishment_Year', ylabel='count'>"
            ]
          },
          "execution_count": 13,
          "metadata": {},
          "output_type": "execute_result"
        },
        {
          "data": {
            "image/png": "[encoded data removed]",
            "text/plain": [
              "<Figure size 720x720 with 1 Axes>"
            ]
          },
          "metadata": {
            "needs_background": "light"
          },
          "output_type": "display_data"
        }
      ],
      "source": [
        "# Which year were there highest sales?\n",
        "plt.figure(figsize=(10,10))\n",
        "sns.countplot(x=\"Outlet_Establishment_Year\", data=sales_data)"
      ]
    },
    {
      "cell_type": "markdown",
      "id": "54804eb2",
      "metadata": {
        "papermill": {
          "duration": 0.033632,
          "end_time": "2021-10-02T11:29:40.744629",
          "exception": false,
          "start_time": "2021-10-02T11:29:40.710997",
          "status": "completed"
        },
        "tags": [],
        "id": "54804eb2"
      },
      "source": [
        "**Interestingly, 1985, the debut year of the mall had the highest sales but from then on, sales volume was pretty much constant.**"
      ]
    },
    {
      "cell_type": "code",
      "execution_count": null,
      "id": "1d7937e2",
      "metadata": {
        "execution": {
          "iopub.execute_input": "2021-10-02T11:29:40.813776Z",
          "iopub.status.busy": "2021-10-02T11:29:40.813101Z",
          "iopub.status.idle": "2021-10-02T11:29:41.008475Z",
          "shell.execute_reply": "2021-10-02T11:29:41.008958Z",
          "shell.execute_reply.started": "2021-10-02T11:14:14.401315Z"
        },
        "papermill": {
          "duration": 0.231244,
          "end_time": "2021-10-02T11:29:41.009205",
          "exception": false,
          "start_time": "2021-10-02T11:29:40.777961",
          "status": "completed"
        },
        "tags": [],
        "id": "1d7937e2",
        "outputId": "4eac39dc-9d76-4e48-ce76-926f4c92c49b"
      },
      "outputs": [
        {
          "data": {
            "text/plain": [
              "<AxesSubplot:xlabel='Outlet_Type', ylabel='count'>"
            ]
          },
          "execution_count": 14,
          "metadata": {},
          "output_type": "execute_result"
        },
        {
          "data": {
            "image/png": "[encoded data removed]",
            "text/plain": [
              "<Figure size 720x720 with 1 Axes>"
            ]
          },
          "metadata": {
            "needs_background": "light"
          },
          "output_type": "display_data"
        }
      ],
      "source": [
        "# What type of outlet usually has more sales?\n",
        "plt.figure(figsize=(10,10))\n",
        "sns.countplot(x=\"Outlet_Type\", data=sales_data)"
      ]
    },
    {
      "cell_type": "markdown",
      "id": "4b7ea2d0",
      "metadata": {
        "papermill": {
          "duration": 0.033847,
          "end_time": "2021-10-02T11:29:41.078769",
          "exception": false,
          "start_time": "2021-10-02T11:29:41.044922",
          "status": "completed"
        },
        "tags": [],
        "id": "4b7ea2d0"
      },
      "source": [
        "**Supermarket Type1 have the most sales, much higher than other types so the mall owners should consider building more of these types in other locations.**"
      ]
    },
    {
      "cell_type": "markdown",
      "id": "4eb486bf",
      "metadata": {
        "papermill": {
          "duration": 0.033153,
          "end_time": "2021-10-02T11:29:41.145890",
          "exception": false,
          "start_time": "2021-10-02T11:29:41.112737",
          "status": "completed"
        },
        "tags": [],
        "id": "4eb486bf"
      },
      "source": [
        "# Splitting Data"
      ]
    },
    {
      "cell_type": "code",
      "execution_count": null,
      "id": "1c631ff4",
      "metadata": {
        "execution": {
          "iopub.execute_input": "2021-10-02T11:29:41.219388Z",
          "iopub.status.busy": "2021-10-02T11:29:41.218655Z",
          "iopub.status.idle": "2021-10-02T11:29:41.228866Z",
          "shell.execute_reply": "2021-10-02T11:29:41.228315Z",
          "shell.execute_reply.started": "2021-10-02T11:14:14.628801Z"
        },
        "papermill": {
          "duration": 0.049834,
          "end_time": "2021-10-02T11:29:41.229046",
          "exception": false,
          "start_time": "2021-10-02T11:29:41.179212",
          "status": "completed"
        },
        "tags": [],
        "id": "1c631ff4"
      },
      "outputs": [],
      "source": [
        "# We need to split the data\n",
        "X = sales_data.drop(columns='Item_Outlet_Sales',axis=1) # We need all the variables (columns) as independent variables so we're just dropping the target column to make things easier.\n",
        "y = sales_data['Item_Outlet_Sales'] # Target\n",
        "\n",
        "# Then we split the data into training and testing data\n",
        "X_train, X_test, y_train, y_test = train_test_split(X,y,test_size = 0.2, random_state = 2) # 80% data will be used for training the model and rest 20% for testing."
      ]
    },
    {
      "cell_type": "code",
      "execution_count": null,
      "id": "96ddb87f",
      "metadata": {
        "execution": {
          "iopub.execute_input": "2021-10-02T11:29:41.301768Z",
          "iopub.status.busy": "2021-10-02T11:29:41.301066Z",
          "iopub.status.idle": "2021-10-02T11:29:41.304057Z",
          "shell.execute_reply": "2021-10-02T11:29:41.304514Z",
          "shell.execute_reply.started": "2021-10-02T11:14:14.641213Z"
        },
        "papermill": {
          "duration": 0.041981,
          "end_time": "2021-10-02T11:29:41.304691",
          "exception": false,
          "start_time": "2021-10-02T11:29:41.262710",
          "status": "completed"
        },
        "tags": [],
        "id": "96ddb87f",
        "outputId": "da1a34ac-8ae5-4b6f-8ff4-8f8f2d1f1cdb"
      },
      "outputs": [
        {
          "name": "stdout",
          "output_type": "stream",
          "text": [
            "(8523, 11) (6818, 11)\n"
          ]
        }
      ],
      "source": [
        "print(X.shape,X_train.shape)"
      ]
    },
    {
      "cell_type": "markdown",
      "id": "81704aa1",
      "metadata": {
        "papermill": {
          "duration": 0.033042,
          "end_time": "2021-10-02T11:29:41.371179",
          "exception": false,
          "start_time": "2021-10-02T11:29:41.338137",
          "status": "completed"
        },
        "tags": [],
        "id": "81704aa1"
      },
      "source": [
        "**As we can see, 6818 rows are used for testing out of 8523 which is about 80% of the data.**"
      ]
    },
    {
      "cell_type": "markdown",
      "id": "cf30e366",
      "metadata": {
        "papermill": {
          "duration": 0.033057,
          "end_time": "2021-10-02T11:29:41.437682",
          "exception": false,
          "start_time": "2021-10-02T11:29:41.404625",
          "status": "completed"
        },
        "tags": [],
        "id": "cf30e366"
      },
      "source": [
        "# Model Building"
      ]
    },
    {
      "cell_type": "markdown",
      "id": "d9c4ee97",
      "metadata": {
        "papermill": {
          "duration": 0.033318,
          "end_time": "2021-10-02T11:29:41.504304",
          "exception": false,
          "start_time": "2021-10-02T11:29:41.470986",
          "status": "completed"
        },
        "tags": [],
        "id": "d9c4ee97"
      },
      "source": [
        "**We're going to build a LinearRegression model and XGBoost model and compare. Finally, we will use the one with higher accuracy.**"
      ]
    },
    {
      "cell_type": "code",
      "execution_count": null,
      "id": "0ce3fa53",
      "metadata": {
        "execution": {
          "iopub.execute_input": "2021-10-02T11:29:41.578151Z",
          "iopub.status.busy": "2021-10-02T11:29:41.577486Z",
          "iopub.status.idle": "2021-10-02T11:29:42.204225Z",
          "shell.execute_reply": "2021-10-02T11:29:42.204660Z",
          "shell.execute_reply.started": "2021-10-02T11:16:05.588663Z"
        },
        "papermill": {
          "duration": 0.667248,
          "end_time": "2021-10-02T11:29:42.204856",
          "exception": false,
          "start_time": "2021-10-02T11:29:41.537608",
          "status": "completed"
        },
        "tags": [],
        "id": "0ce3fa53",
        "outputId": "f4acfa9b-366e-46c7-a7a3-104e54c4198c"
      },
      "outputs": [
        {
          "data": {
            "text/plain": [
              "XGBRegressor(base_score=0.5, booster='gbtree', colsample_bylevel=1,\n",
              "             colsample_bynode=1, colsample_bytree=1, gamma=0, gpu_id=-1,\n",
              "             importance_type='gain', interaction_constraints='',\n",
              "             learning_rate=0.300000012, max_delta_step=0, max_depth=6,\n",
              "             min_child_weight=1, missing=nan, monotone_constraints='()',\n",
              "             n_estimators=100, n_jobs=4, num_parallel_tree=1, random_state=0,\n",
              "             reg_alpha=0, reg_lambda=1, scale_pos_weight=1, subsample=1,\n",
              "             tree_method='exact', validate_parameters=1, verbosity=None)"
            ]
          },
          "execution_count": 17,
          "metadata": {},
          "output_type": "execute_result"
        }
      ],
      "source": [
        "model1 = XGBRegressor()\n",
        "\n",
        "# Now we need to train the model\n",
        "model1.fit(X_train,y_train) # fitting means training"
      ]
    },
    {
      "cell_type": "code",
      "execution_count": null,
      "id": "199825ff",
      "metadata": {
        "execution": {
          "iopub.execute_input": "2021-10-02T11:29:42.275408Z",
          "iopub.status.busy": "2021-10-02T11:29:42.274802Z",
          "iopub.status.idle": "2021-10-02T11:29:42.303146Z",
          "shell.execute_reply": "2021-10-02T11:29:42.303970Z",
          "shell.execute_reply.started": "2021-10-02T11:16:09.317280Z"
        },
        "papermill": {
          "duration": 0.065662,
          "end_time": "2021-10-02T11:29:42.304284",
          "exception": false,
          "start_time": "2021-10-02T11:29:42.238622",
          "status": "completed"
        },
        "tags": [],
        "id": "199825ff",
        "outputId": "3e728678-49dc-42c9-f697-ee2d4c9ea573"
      },
      "outputs": [
        {
          "data": {
            "text/plain": [
              "LinearRegression()"
            ]
          },
          "execution_count": 18,
          "metadata": {},
          "output_type": "execute_result"
        }
      ],
      "source": [
        "model2 = LinearRegression()\n",
        "model2.fit(X_train,y_train)"
      ]
    },
    {
      "cell_type": "markdown",
      "id": "b202c6ee",
      "metadata": {
        "papermill": {
          "duration": 0.056497,
          "end_time": "2021-10-02T11:29:42.426378",
          "exception": false,
          "start_time": "2021-10-02T11:29:42.369881",
          "status": "completed"
        },
        "tags": [],
        "id": "b202c6ee"
      },
      "source": [
        "# Model Evaluation"
      ]
    },
    {
      "cell_type": "markdown",
      "id": "c2fa338c",
      "metadata": {
        "papermill": {
          "duration": 0.033291,
          "end_time": "2021-10-02T11:29:42.493467",
          "exception": false,
          "start_time": "2021-10-02T11:29:42.460176",
          "status": "completed"
        },
        "tags": [],
        "id": "c2fa338c"
      },
      "source": [
        "**First, we need to use the model to predict prices from the training data. Then, we check our model's accuracy using R squared error/ Mean Square error/ Mean Absolute error (for regression).**"
      ]
    },
    {
      "cell_type": "code",
      "execution_count": null,
      "id": "f9d86ea6",
      "metadata": {
        "execution": {
          "iopub.execute_input": "2021-10-02T11:29:42.575911Z",
          "iopub.status.busy": "2021-10-02T11:29:42.565764Z",
          "iopub.status.idle": "2021-10-02T11:29:42.582090Z",
          "shell.execute_reply": "2021-10-02T11:29:42.582576Z",
          "shell.execute_reply.started": "2021-10-02T11:16:49.569612Z"
        },
        "papermill": {
          "duration": 0.055355,
          "end_time": "2021-10-02T11:29:42.582769",
          "exception": false,
          "start_time": "2021-10-02T11:29:42.527414",
          "status": "completed"
        },
        "tags": [],
        "id": "f9d86ea6",
        "outputId": "4e3ff0bc-66b3-4216-ac98-d95ce0aaebd8"
      },
      "outputs": [
        {
          "data": {
            "text/plain": [
              "array([2172.693 , 2844.0671, 3308.6353, ..., 3363.3127, 1717.4066,\n",
              "       2013.252 ], dtype=float32)"
            ]
          },
          "execution_count": 19,
          "metadata": {},
          "output_type": "execute_result"
        }
      ],
      "source": [
        "train_pred1 = model1.predict(X_train)\n",
        "train_pred1"
      ]
    },
    {
      "cell_type": "code",
      "execution_count": null,
      "id": "7f608a83",
      "metadata": {
        "execution": {
          "iopub.execute_input": "2021-10-02T11:29:42.655510Z",
          "iopub.status.busy": "2021-10-02T11:29:42.654826Z",
          "iopub.status.idle": "2021-10-02T11:29:42.664234Z",
          "shell.execute_reply": "2021-10-02T11:29:42.664943Z",
          "shell.execute_reply.started": "2021-10-02T11:17:00.312183Z"
        },
        "papermill": {
          "duration": 0.04786,
          "end_time": "2021-10-02T11:29:42.665229",
          "exception": false,
          "start_time": "2021-10-02T11:29:42.617369",
          "status": "completed"
        },
        "tags": [],
        "id": "7f608a83",
        "outputId": "10c22e2f-4114-452d-dff7-54750599b421"
      },
      "outputs": [
        {
          "data": {
            "text/plain": [
              "array([2327.41867944, 3031.89278067, 3867.31973582, ..., 2567.89841379,\n",
              "       2376.92087115, 3052.32198326])"
            ]
          },
          "execution_count": 20,
          "metadata": {},
          "output_type": "execute_result"
        }
      ],
      "source": [
        "train_pred2 = model2.predict(X_train)\n",
        "train_pred2"
      ]
    },
    {
      "cell_type": "code",
      "execution_count": null,
      "id": "a195b05b",
      "metadata": {
        "execution": {
          "iopub.execute_input": "2021-10-02T11:29:42.796756Z",
          "iopub.status.busy": "2021-10-02T11:29:42.795773Z",
          "iopub.status.idle": "2021-10-02T11:29:42.800002Z",
          "shell.execute_reply": "2021-10-02T11:29:42.800417Z",
          "shell.execute_reply.started": "2021-10-02T11:22:31.278304Z"
        },
        "papermill": {
          "duration": 0.068221,
          "end_time": "2021-10-02T11:29:42.800608",
          "exception": false,
          "start_time": "2021-10-02T11:29:42.732387",
          "status": "completed"
        },
        "tags": [],
        "id": "a195b05b",
        "outputId": "1971ac0f-65d0-4617-91bc-64fb39446bda"
      },
      "outputs": [
        {
          "name": "stdout",
          "output_type": "stream",
          "text": [
            "R squared error for XGB Regressor: 0.8549833167058186\n"
          ]
        }
      ],
      "source": [
        "# Now we use R squared error (Basically comparing the original y_train and predictions and seeing difference/error)\n",
        "\n",
        "# For XGBRegressor\n",
        "RSQscore1 = metrics.r2_score(y_train,train_pred1)\n",
        "\n",
        "# Let's check\n",
        "\n",
        "# The closer the errors are to 0, the more accurate our model is.\n",
        "print(\"R squared error for XGB Regressor:\",RSQscore1) "
      ]
    },
    {
      "cell_type": "code",
      "execution_count": null,
      "id": "dce2bc7d",
      "metadata": {
        "execution": {
          "iopub.execute_input": "2021-10-02T11:29:42.876697Z",
          "iopub.status.busy": "2021-10-02T11:29:42.875881Z",
          "iopub.status.idle": "2021-10-02T11:29:42.880236Z",
          "shell.execute_reply": "2021-10-02T11:29:42.879671Z",
          "shell.execute_reply.started": "2021-10-02T11:22:03.904062Z"
        },
        "papermill": {
          "duration": 0.043983,
          "end_time": "2021-10-02T11:29:42.880387",
          "exception": false,
          "start_time": "2021-10-02T11:29:42.836404",
          "status": "completed"
        },
        "tags": [],
        "id": "dce2bc7d",
        "outputId": "ad4a0783-d122-40fa-a5a3-bd54c75d7b50"
      },
      "outputs": [
        {
          "name": "stdout",
          "output_type": "stream",
          "text": [
            "R squared error for Linear Regressor: 0.514058329918831\n"
          ]
        }
      ],
      "source": [
        "# For Linear Regressor\n",
        "RSQscore2 = metrics.r2_score(y_train,train_pred2)\n",
        "\n",
        "# Let's check\n",
        "\n",
        "# The closer the errors are to 0, the more accurate our model is.\n",
        "print(\"R squared error for Linear Regressor:\",RSQscore2) "
      ]
    },
    {
      "cell_type": "markdown",
      "id": "013d53f4",
      "metadata": {
        "papermill": {
          "duration": 0.035694,
          "end_time": "2021-10-02T11:29:42.951570",
          "exception": false,
          "start_time": "2021-10-02T11:29:42.915876",
          "status": "completed"
        },
        "tags": [],
        "id": "013d53f4"
      },
      "source": [
        "**For training data, linear regressor is a better model for our project as it's R squared error is closer to 0. But we can still check with other models to find best model.**"
      ]
    },
    {
      "cell_type": "markdown",
      "id": "090f956e",
      "metadata": {
        "papermill": {
          "duration": 0.035638,
          "end_time": "2021-10-02T11:29:43.023179",
          "exception": false,
          "start_time": "2021-10-02T11:29:42.987541",
          "status": "completed"
        },
        "tags": [],
        "id": "090f956e"
      },
      "source": [
        "**But keep in mind that we used training data to check accuracy. We need to check using test data for a better understanding.**"
      ]
    },
    {
      "cell_type": "code",
      "execution_count": null,
      "id": "b9c2deda",
      "metadata": {
        "execution": {
          "iopub.execute_input": "2021-10-02T11:29:43.097633Z",
          "iopub.status.busy": "2021-10-02T11:29:43.096946Z",
          "iopub.status.idle": "2021-10-02T11:29:43.109959Z",
          "shell.execute_reply": "2021-10-02T11:29:43.109419Z",
          "shell.execute_reply.started": "2021-10-02T11:26:50.110705Z"
        },
        "papermill": {
          "duration": 0.051241,
          "end_time": "2021-10-02T11:29:43.110120",
          "exception": false,
          "start_time": "2021-10-02T11:29:43.058879",
          "status": "completed"
        },
        "tags": [],
        "id": "b9c2deda",
        "outputId": "027dc30c-ac6d-489c-edff-d4ee97d9e877"
      },
      "outputs": [
        {
          "data": {
            "text/plain": [
              "array([2098.7969, 4360.376 , 1454.3608, ..., 2883.5608, 1158.3351,\n",
              "       3164.4902], dtype=float32)"
            ]
          },
          "execution_count": 23,
          "metadata": {},
          "output_type": "execute_result"
        }
      ],
      "source": [
        "test_pred1 = model1.predict(X_test)\n",
        "test_pred1"
      ]
    },
    {
      "cell_type": "code",
      "execution_count": null,
      "id": "889433e4",
      "metadata": {
        "execution": {
          "iopub.execute_input": "2021-10-02T11:29:43.184028Z",
          "iopub.status.busy": "2021-10-02T11:29:43.183453Z",
          "iopub.status.idle": "2021-10-02T11:29:43.196487Z",
          "shell.execute_reply": "2021-10-02T11:29:43.197400Z",
          "shell.execute_reply.started": "2021-10-02T11:26:57.726962Z"
        },
        "papermill": {
          "duration": 0.052455,
          "end_time": "2021-10-02T11:29:43.197686",
          "exception": false,
          "start_time": "2021-10-02T11:29:43.145231",
          "status": "completed"
        },
        "tags": [],
        "id": "889433e4",
        "outputId": "a2b92f1e-8a49-49e3-9576-029eed05a819"
      },
      "outputs": [
        {
          "data": {
            "text/plain": [
              "array([2521.30878303, 3777.79279852, 1314.26315325, ..., 2255.36856828,\n",
              "       4513.18525798, 3595.71438136])"
            ]
          },
          "execution_count": 24,
          "metadata": {},
          "output_type": "execute_result"
        }
      ],
      "source": [
        "test_pred2 = model2.predict(X_test)\n",
        "test_pred2"
      ]
    },
    {
      "cell_type": "code",
      "execution_count": null,
      "id": "8fe3e29c",
      "metadata": {
        "execution": {
          "iopub.execute_input": "2021-10-02T11:29:43.326989Z",
          "iopub.status.busy": "2021-10-02T11:29:43.323923Z",
          "iopub.status.idle": "2021-10-02T11:29:43.330760Z",
          "shell.execute_reply": "2021-10-02T11:29:43.331574Z",
          "shell.execute_reply.started": "2021-10-02T11:27:42.118994Z"
        },
        "papermill": {
          "duration": 0.0665,
          "end_time": "2021-10-02T11:29:43.331872",
          "exception": false,
          "start_time": "2021-10-02T11:29:43.265372",
          "status": "completed"
        },
        "tags": [],
        "id": "8fe3e29c",
        "outputId": "5fd4b053-210b-4a96-d9e2-89eb43599427"
      },
      "outputs": [
        {
          "name": "stdout",
          "output_type": "stream",
          "text": [
            "R squared error for XGB Regressor: 0.5191234777241828\n"
          ]
        }
      ],
      "source": [
        "# Now we use R squared error (Basically comparing the original y_train and predictions and seeing difference/error)\n",
        "\n",
        "# For XGBRegressor\n",
        "RSQscore1 = metrics.r2_score(y_test,test_pred1)\n",
        "\n",
        "# Let's check\n",
        "\n",
        "# The closer the errors are to 0, the more accurate our model is.\n",
        "print(\"R squared error for XGB Regressor:\",RSQscore1) "
      ]
    },
    {
      "cell_type": "code",
      "execution_count": null,
      "id": "94b27356",
      "metadata": {
        "execution": {
          "iopub.execute_input": "2021-10-02T11:29:43.411148Z",
          "iopub.status.busy": "2021-10-02T11:29:43.410472Z",
          "iopub.status.idle": "2021-10-02T11:29:43.413881Z",
          "shell.execute_reply": "2021-10-02T11:29:43.413335Z",
          "shell.execute_reply.started": "2021-10-02T11:28:15.566230Z"
        },
        "papermill": {
          "duration": 0.04538,
          "end_time": "2021-10-02T11:29:43.414022",
          "exception": false,
          "start_time": "2021-10-02T11:29:43.368642",
          "status": "completed"
        },
        "tags": [],
        "id": "94b27356",
        "outputId": "7573500e-3183-4b48-c57b-bea9f277817a"
      },
      "outputs": [
        {
          "name": "stdout",
          "output_type": "stream",
          "text": [
            "R squared error for Linear Regressor: 0.49498230467978976\n"
          ]
        }
      ],
      "source": [
        "# For Linear Regressor\n",
        "RSQscore2 = metrics.r2_score(y_test,test_pred2)\n",
        "\n",
        "# Let's check\n",
        "\n",
        "# The closer the errors are to 0, the more accurate our model is.\n",
        "print(\"R squared error for Linear Regressor:\",RSQscore2) "
      ]
    },
    {
      "cell_type": "markdown",
      "id": "5bbd1d31",
      "metadata": {
        "papermill": {
          "duration": 0.035311,
          "end_time": "2021-10-02T11:29:43.484986",
          "exception": false,
          "start_time": "2021-10-02T11:29:43.449675",
          "status": "completed"
        },
        "tags": [],
        "id": "5bbd1d31"
      },
      "source": [
        "**Clearly, linear regressor is a better model for our project as it's R squared error is closer to 0. But we can still check with other models to find the best model.**"
      ]
    },
    {
      "cell_type": "markdown",
      "id": "e397cd91",
      "metadata": {
        "papermill": {
          "duration": 0.035387,
          "end_time": "2021-10-02T11:29:43.556759",
          "exception": false,
          "start_time": "2021-10-02T11:29:43.521372",
          "status": "completed"
        },
        "tags": [],
        "id": "e397cd91"
      },
      "source": [
        "# Conclusion"
      ]
    },
    {
      "cell_type": "markdown",
      "id": "652601c5",
      "metadata": {
        "papermill": {
          "duration": 0.035466,
          "end_time": "2021-10-02T11:29:43.627910",
          "exception": false,
          "start_time": "2021-10-02T11:29:43.592444",
          "status": "completed"
        },
        "tags": [],
        "id": "652601c5"
      },
      "source": [
        "**So basically the workflow is like this: Import libraries and dataset -> check for missing values -> perform necessary imputation -> data preprocessing -> exploratory data analysis -> split data -> train model -> check its accuracy -> improve model or try other ones.**\n",
        "\n",
        "**To get better accuracy, try different models or use more training data.**"
      ]
    }
  ],
  "metadata": {
    "kernelspec": {
      "display_name": "Python 3",
      "language": "python",
      "name": "python3"
    },
    "language_info": {
      "codemirror_mode": {
        "name": "ipython",
        "version": 3
      },
      "file_extension": ".py",
      "mimetype": "text/x-python",
      "name": "python",
      "nbconvert_exporter": "python",
      "pygments_lexer": "ipython3",
      "version": "3.7.10"
    },
    "papermill": {
      "default_parameters": {},
      "duration": 16.555033,
      "end_time": "2021-10-02T11:29:44.574360",
      "environment_variables": {},
      "exception": null,
      "input_path": "__notebook__.ipynb",
      "output_path": "__notebook__.ipynb",
      "parameters": {},
      "start_time": "2021-10-02T11:29:28.019327",
      "version": "2.3.3"
    },
    "colab": {
      "name": "big-mart-sales-for-beginners.ipynb",
      "provenance": []
    }
  },
  "nbformat": 4,
  "nbformat_minor": 5
}
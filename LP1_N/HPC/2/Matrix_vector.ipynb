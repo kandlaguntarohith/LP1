{
  "nbformat": 4,
  "nbformat_minor": 0,
  "metadata": {
    "colab": {
      "name": "Matrix_vector.ipynb",
      "provenance": [],
      "collapsed_sections": []
    },
    "kernelspec": {
      "name": "python3",
      "display_name": "Python 3"
    },
    "language_info": {
      "name": "python"
    }
  },
  "cells": [
    {
      "cell_type": "code",
      "metadata": {
        "id": "cwW2nCUV6F8T"
      },
      "source": [
        "code = \"\"\"#include<iostream>\n",
        "\n",
        "using namespace std;\n",
        "\n",
        "__global__\n",
        "void matrixVector(int *vec, int *mat, int *result, int n, int m)\n",
        "{\n",
        "    int tid = blockIdx.x*blockDim.x + threadIdx.x;\n",
        "    int sum=0;\n",
        "    \n",
        "    if(tid <= n) {\n",
        "        for(int i=0; i<n; i++) {\n",
        "            sum += vec[i]*mat[(i*m) + tid];\n",
        "        }\n",
        "        result[tid] = sum;\n",
        "    }\n",
        "}\n",
        "\n",
        "void init_array(int *a, int n) {\n",
        "    for(int i=0; i<n; i++)\n",
        "      a[i] = rand()%n + 1;\n",
        "}\n",
        "\n",
        "void init_matrix(int *a, int n, int m) {\n",
        "    for(int i=0; i<n; i++) {\n",
        "        for(int j=0; j<m; j++) {\n",
        "            a[i*m + j] = rand()%n + 1;\n",
        "        }\n",
        "    }\n",
        "}\n",
        "\n",
        "void print_array(int *a, int n) {\n",
        "    for(int i=0; i<n; i++) {\n",
        "        cout<<\"  \"<<a[i];\n",
        "    }\n",
        "    cout<<endl;\n",
        "}\n",
        "\n",
        "void print_matrix(int *a, int n, int m) {\n",
        "    for(int i=0; i<n; i++) {\n",
        "        for(int j=0; j<m; j++)\n",
        "          cout<<\"  \"<<a[i*m + j];\n",
        "        cout<<endl;\n",
        "    }\n",
        "}\n",
        "\n",
        "int main() {\n",
        "    int *a, *b, *c;\n",
        "    int *a_dev, *b_dev, *c_dev;\n",
        "    \n",
        "    int n = 3;\n",
        "    int m = 4;\n",
        "    \n",
        "    a = new int[n];\n",
        "    b = new int[n*m];\n",
        "    c = new int[m];\n",
        "    \n",
        "    init_array(a, n);\n",
        "    init_matrix(b, n, m);\n",
        "        \n",
        "    cout<<\"Initial array : \"<<endl;\n",
        "    print_array(a, n);\n",
        "    cout<<\"Initial matrix : \"<<endl;\n",
        "    print_matrix(b, n, m);\n",
        "    cout<<\"Initial resultant array : \"<<endl;\n",
        "    print_array(c, m);\n",
        "    cout<<endl;\n",
        "    \n",
        "    cudaMalloc(&a_dev, sizeof(int)*n);\n",
        "    cudaMalloc(&b_dev, sizeof(int)*n*m);\n",
        "    cudaMalloc(&c_dev, sizeof(int)*m);\n",
        "    \n",
        "    cudaMemcpy(a_dev, a, sizeof(int)*n, cudaMemcpyHostToDevice);\n",
        "    cudaMemcpy(b_dev, b, sizeof(int)*n*m, cudaMemcpyHostToDevice);\n",
        "    \n",
        "    matrixVector<<<m/256+1, 256>>>(a_dev, b_dev, c_dev, n, m);\n",
        "    \n",
        "    cudaMemcpy(c, c_dev, sizeof(int)*m, cudaMemcpyDeviceToHost);\n",
        "    \n",
        "    cout<<\"Results : \"<<endl;\n",
        "    print_array(c, m);\n",
        "    \n",
        "    cudaFree(a_dev);\n",
        "    cudaFree(b_dev);\n",
        "    cudaFree(c_dev);\n",
        "    \n",
        "    delete[] a;\n",
        "    delete[] b;\n",
        "    delete[] c;\n",
        "    \n",
        "    return 0;\n",
        "}\n",
        "\n",
        "\n",
        "\"\"\""
      ],
      "execution_count": null,
      "outputs": []
    },
    {
      "cell_type": "code",
      "metadata": {
        "id": "hh7rwbhn6KSa"
      },
      "source": [
        "text_file = open(\"matVec.cu\", \"w\")\n",
        "text_file.write(code)\n",
        "text_file.close()"
      ],
      "execution_count": null,
      "outputs": []
    },
    {
      "cell_type": "code",
      "metadata": {
        "id": "lwH0-tUp6MU9"
      },
      "source": [
        "!nvcc matVec.cu"
      ],
      "execution_count": null,
      "outputs": []
    },
    {
      "cell_type": "code",
      "metadata": {
        "colab": {
          "base_uri": "https://localhost:8080/"
        },
        "id": "USn7jq6U6OC5",
        "outputId": "a49aea34-5d96-41bc-fda0-e9cf3be325f8"
      },
      "source": [
        "!./a.out"
      ],
      "execution_count": null,
      "outputs": [
        {
          "output_type": "stream",
          "name": "stdout",
          "text": [
            "Initial array : \n",
            "  2  2  1\n",
            "Initial matrix : \n",
            "  2  3  2  2\n",
            "  1  1  2  3\n",
            "  2  3  2  3\n",
            "Initial resultant array : \n",
            "  0  0  0  0\n",
            "\n",
            "Results : \n",
            "  0  0  0  0\n"
          ]
        }
      ]
    }
  ]
}
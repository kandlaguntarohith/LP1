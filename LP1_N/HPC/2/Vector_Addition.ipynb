{
  "nbformat": 4,
  "nbformat_minor": 0,
  "metadata": {
    "colab": {
      "name": "Vector_Addition.ipynb",
      "provenance": [],
      "collapsed_sections": []
    },
    "kernelspec": {
      "name": "python3",
      "display_name": "Python 3"
    },
    "language_info": {
      "name": "python"
    }
  },
  "cells": [
    {
      "cell_type": "code",
      "source": [
        "!apt-get --purge remove cuda nvidia* libnvidia-*\n",
        "!dpkg -l | grep cuda- | awk '{print $2}' | xargs -n1 dpkg --purge\n",
        "!apt-get remove cuda-*\n",
        "!apt autoremove\n",
        "!apt-get update"
      ],
      "metadata": {
        "id": "6j7m7AIUhPZh"
      },
      "execution_count": null,
      "outputs": []
    },
    {
      "cell_type": "code",
      "source": [
        "!wget https://developer.nvidia.com/compute/cuda/9.2/Prod/local_installers/cuda-repo-ubuntu1604-9-2-local_9.2.88-1_amd64 -O cuda-repo-ubuntu1604-9-2-local_9.2.88-1_amd64.deb\n",
        "!dpkg -i cuda-repo-ubuntu1604-9-2-local_9.2.88-1_amd64.deb\n",
        "!apt-key add /var/cuda-repo-9-2-local/7fa2af80.pub\n",
        "!apt-get update\n",
        "!apt-get install cuda-9.2"
      ],
      "metadata": {
        "id": "c1HFtCgUhal5"
      },
      "execution_count": null,
      "outputs": []
    },
    {
      "cell_type": "code",
      "source": [
        "!pip install git+git://github.com/andreinechaev/nvcc4jupyter.git"
      ],
      "metadata": {
        "id": "cc3rOMNgjuLW"
      },
      "execution_count": null,
      "outputs": []
    },
    {
      "cell_type": "code",
      "source": [
        "%load_ext nvcc_plugin"
      ],
      "metadata": {
        "colab": {
          "base_uri": "https://localhost:8080/"
        },
        "id": "LDYedIUYjwrT",
        "outputId": "f46ec7e6-5a83-45a7-e186-d0d4506275df"
      },
      "execution_count": null,
      "outputs": [
        {
          "output_type": "stream",
          "name": "stdout",
          "text": [
            "directory /usr/local/src already exists\n",
            "Out bin /usr/local/result.out\n"
          ]
        }
      ]
    },
    {
      "cell_type": "code",
      "metadata": {
        "id": "cjeDjcDj38VY"
      },
      "source": [
        "code = \"\"\"\n",
        "#include<iostream>\n",
        "#include<cstdlib>\n",
        "using namespace std;\n",
        "\n",
        "__global__ void vectorAdd(int *a, int *b, int *result, int n) {\n",
        "    int tid = blockIdx.x*blockDim.x + threadIdx.x;\n",
        "    if(tid <= n) {\n",
        "        result[tid] = a[tid] + b[tid];\n",
        "    }\n",
        "}\n",
        "\n",
        "void print_array(int *a, int N) {\n",
        "    for(int i=0; i<N; i++) {\n",
        "        cout<<\"  \"<<a[i];\n",
        "    }\n",
        "    cout<<endl;\n",
        "}\n",
        "\n",
        "void init_array(int *a, int N) {\n",
        "    for(int i=0; i<N; i++) {\n",
        "        a[i] = rand()%10 + 1;\n",
        "    }\n",
        "}\n",
        "\n",
        "int main() {\n",
        "    int *a, *b, *c;\n",
        "    int *a_dev, *b_dev, *c_dev;\n",
        "    int n = 8;           \n",
        "    \n",
        "    a = new int[n];\n",
        "    b = new int[n];\n",
        "    c = new int[n];\n",
        "\n",
        "    int size = n * sizeof(int); // 32\n",
        "    \n",
        "    cudaMalloc(&a_dev, size);\n",
        "    cudaMalloc(&b_dev, size);\n",
        "    cudaMalloc(&c_dev, size);\n",
        "    \n",
        "    init_array(a, n);\n",
        "    init_array(b, n);\n",
        "    \n",
        "    print_array(a, n);\n",
        "    print_array(b, n);\n",
        "        \n",
        "\n",
        "    cudaMemcpy(a_dev, a, size, cudaMemcpyHostToDevice);\n",
        "    cudaMemcpy(b_dev, b, size, cudaMemcpyHostToDevice);\n",
        "    \n",
        "    \n",
        "    vectorAdd<<<2,1024>>>(a_dev, b_dev, c_dev, n);\n",
        "    \n",
        "    \n",
        "    cudaMemcpy(c, c_dev, size, cudaMemcpyDeviceToHost);\n",
        "    \n",
        "    cout<<\"Results : \"<<endl;\n",
        "    print_array(c, n);\n",
        " \n",
        "        \n",
        "    cudaFree(a_dev);\n",
        "    cudaFree(b_dev);\n",
        "    cudaFree(c_dev);\n",
        "        \n",
        "    return 0;\n",
        "}\n",
        "\"\"\""
      ],
      "execution_count": null,
      "outputs": []
    },
    {
      "cell_type": "code",
      "metadata": {
        "id": "bPyuaerp4vlG"
      },
      "source": [
        "text_file = open(\"assign2.cu\", \"w\")\n",
        "text_file.write(code)\n",
        "text_file.close()"
      ],
      "execution_count": null,
      "outputs": []
    },
    {
      "cell_type": "code",
      "source": [
        "!nvcc --version"
      ],
      "metadata": {
        "colab": {
          "base_uri": "https://localhost:8080/"
        },
        "id": "lrHRstZdfomC",
        "outputId": "75966540-22eb-4b7d-ea0f-7dd2fd5ec509"
      },
      "execution_count": null,
      "outputs": [
        {
          "output_type": "stream",
          "name": "stdout",
          "text": [
            "nvcc: NVIDIA (R) Cuda compiler driver\n",
            "Copyright (c) 2005-2018 NVIDIA Corporation\n",
            "Built on Wed_Apr_11_23:16:29_CDT_2018\n",
            "Cuda compilation tools, release 9.2, V9.2.88\n"
          ]
        }
      ]
    },
    {
      "cell_type": "code",
      "metadata": {
        "id": "6f60n1204zZ2"
      },
      "source": [
        "!nvcc assign2.cu"
      ],
      "execution_count": null,
      "outputs": []
    },
    {
      "cell_type": "code",
      "metadata": {
        "colab": {
          "base_uri": "https://localhost:8080/"
        },
        "id": "EErn24W641ph",
        "outputId": "97c1eb85-009c-48e9-d4f4-803682f25f89"
      },
      "source": [
        "!./a.out"
      ],
      "execution_count": null,
      "outputs": [
        {
          "output_type": "stream",
          "name": "stdout",
          "text": [
            "  4  7  8  6  4  6  7  3\n",
            "  10  2  3  8  1  10  4  7\n",
            "Results : \n",
            "  -134430560  21856  0  0  0  0  0  0\n"
          ]
        }
      ]
    }
  ]
}
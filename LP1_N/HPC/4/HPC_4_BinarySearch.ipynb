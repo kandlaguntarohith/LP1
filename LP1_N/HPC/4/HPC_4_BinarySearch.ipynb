{
  "nbformat": 4,
  "nbformat_minor": 0,
  "metadata": {
    "colab": {
      "name": "HPC-4-BinarySearch.ipynb",
      "provenance": [],
      "collapsed_sections": []
    },
    "kernelspec": {
      "name": "python3",
      "display_name": "Python 3"
    }
  },
  "cells": [
    {
      "cell_type": "code",
      "metadata": {
        "id": "QuqFihUV0skK"
      },
      "source": [
        "code = \"\"\"\n",
        "#include<mpi.h>\n",
        "#include<bits/stdc++.h>\n",
        "\n",
        "using namespace std;\n",
        "\n",
        "#define n 23\n",
        "#define KEY_IDX 8\n",
        "\n",
        "int a[] = {1,2,3,4,7,9,13,24,55,56,67,88, 100, 200, 300, 500, 760, 761, 762, 763, 764, 765};\n",
        "int key = 2;\n",
        "//int a[n];\n",
        "\n",
        "int a2[n];\n",
        "\n",
        "void generateArray() {\n",
        "    for(int i = 0; i < n; i++) \n",
        "        a[i] = i;\n",
        "\n",
        "    sort(a, a + n);\n",
        "    key = a[KEY_IDX];\n",
        "}\n",
        "\n",
        "int binarySearch(int *array, int start, int end, int value) {\n",
        "    int mid;\n",
        "    \n",
        "    while(start <= end) {\n",
        "        mid = (start + end) / 2;\n",
        "        if(array[mid] == value) \n",
        "            return mid;\n",
        "        else if(array[mid] < value)\n",
        "            start = mid + 1;\n",
        "        else\n",
        "            end = mid - 1;\n",
        "    }\n",
        "    return -1;\n",
        "}\n",
        "\n",
        "void receiveData(int id, int np, MPI_Status status){\n",
        "      int length;\n",
        "      // receive the count of elements, from the master\n",
        "      MPI_Recv(&length, 1, MPI_INT, 0, 0, MPI_COMM_WORLD, &status);\n",
        "      \n",
        "      // receive the array elements, from the master\n",
        "      MPI_Recv(&a2, length, MPI_INT, 0, 0, MPI_COMM_WORLD, &status);\n",
        "\n",
        "      // apply binary search and find the element\n",
        "      int position = binarySearch(a2, 0, length, key);\n",
        "\n",
        "      //cout<<\"Pos = \"<<position<<endl;\n",
        "      //cout<<\"id = \"<<id<<endl;\n",
        "\n",
        "      if(position != -1) {\n",
        "\t\t      int element_idx = (n / np) * id + position;\n",
        "\t\t      cout<<\"Element found at index : \"<<element_idx<<endl;\n",
        "          cout<<\"Found by process: \"<<id<<endl;\n",
        "\t    }\n",
        "      \n",
        "      // return the search results to the master\n",
        "      //MPI_Send(&position, 1, MPI_INT, 0, 0, MPI_COMM_WORLD);\n",
        "    \n",
        "}\n",
        "\n",
        "\n",
        "void sendData(int id, int np){\n",
        "      //int length = n / np;\n",
        "      //int index = id * length;\n",
        "\n",
        "      int index = n/np * id;\n",
        "      int length = (id < np-1) ? n/np : n-index;\n",
        "\n",
        "      //if(id == (np-1))\n",
        "        //  length = n - index;\n",
        "\n",
        "      // sending 'element count' to the child process, buffer size = 1\n",
        "      MPI_Send(&length, 1, MPI_INT, id, 0, MPI_COMM_WORLD);\n",
        "\n",
        "      // sending a buffer, which contains the array elements, to the child process, buffer size = 'elements_per_process'\n",
        "      MPI_Send(&a[index], length, MPI_INT, id, 0, MPI_COMM_WORLD);\n",
        "      \n",
        "}\n",
        "\n",
        "int main(int argc, char* argv[]) {\n",
        "    int pid, np, elements_per_process, n_elements_received;\n",
        "\n",
        "    double start, end;\n",
        "    \n",
        "    MPI_Status status;\n",
        "    \n",
        "    // initialize MPI\n",
        "    MPI_Init(&argc, &argv);\n",
        "    \n",
        "    // get the node id and store it in 'pid'.\n",
        "    MPI_Comm_rank(MPI_COMM_WORLD, &pid);\n",
        "\n",
        "    // get how many processes have been started\n",
        "    MPI_Comm_size(MPI_COMM_WORLD, &np);\n",
        "    \n",
        "    // if master process\n",
        "    if(pid == 0) {\n",
        "        int index;\n",
        "        \n",
        "        // elements_per_process = n / np;\n",
        "        //generateArray();\n",
        "\n",
        "        for(int i = 0; i < n; i++) \n",
        "            cout<<a[i]<<\" \";\n",
        "        //cout<<endl;\n",
        "\n",
        "        cout<<key<<\" \"<<endl;\n",
        "\n",
        "        start = MPI_Wtime(); \n",
        "        // distribute data to the child processes\n",
        "        for(int i=1; i<np; i++) {\n",
        "            sendData(i, np);\n",
        "        }\n",
        "\n",
        "        int position = binarySearch(a, 0, (n/np)-1, key);\n",
        "\n",
        "        end = MPI_Wtime();\n",
        "\n",
        "        if(position != -1) {\n",
        "          cout<<\"Element found at index : \"<<position<<endl;\n",
        "          cout<<\"Found by MASTER process\"<<endl;\n",
        "        }\n",
        "\n",
        "        // in seconds\n",
        "        cout<<\"Execution time(parallel) = \"<<(end-start)<<\" seconds\"<<endl;\n",
        "    }\n",
        "    // slave processes\n",
        "    else {\n",
        "        receiveData(pid, np, status);\n",
        "    }\n",
        "    \n",
        "    // terminate the MPI env.\n",
        "    MPI_Finalize();\n",
        "    return 0;\n",
        "}\n",
        "\"\"\""
      ],
      "execution_count": null,
      "outputs": []
    },
    {
      "cell_type": "code",
      "metadata": {
        "id": "HS-L8Btn0-fG"
      },
      "source": [
        "file_ = open(\"BinarySearch.cpp\", \"w\");\n",
        "file_.write(code);\n",
        "file_.close();"
      ],
      "execution_count": null,
      "outputs": []
    },
    {
      "cell_type": "code",
      "metadata": {
        "id": "0S1HzL5t1AMr"
      },
      "source": [
        "!mpiCC BinarySearch.cpp\n"
      ],
      "execution_count": null,
      "outputs": []
    },
    {
      "cell_type": "code",
      "metadata": {
        "id": "SW7UXfJY1AgE",
        "colab": {
          "base_uri": "https://localhost:8080/"
        },
        "outputId": "b71e3e3d-b3ef-424d-ee2d-a80083f8326e"
      },
      "source": [
        "!mpirun --allow-run-as-root -np 4 ./a.out\n"
      ],
      "execution_count": null,
      "outputs": [
        {
          "output_type": "stream",
          "name": "stdout",
          "text": [
            "1 2 3 4 7 9 13 24 55 56 67 88 100 200 300 500 760 761 762 763 764 765 2 2 \n",
            "Element found at index : 1\n",
            "Found by MASTER process\n",
            "Execution time(parallel) = 4.191e-05 seconds\n"
          ]
        }
      ]
    }
  ]
}